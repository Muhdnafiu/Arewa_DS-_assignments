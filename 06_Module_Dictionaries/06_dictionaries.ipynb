{
 "cells": [
  {
   "cell_type": "markdown",
   "metadata": {},
   "source": [
    "## 💻 Exercises: Module 6"
   ]
  },
  {
   "cell_type": "markdown",
   "metadata": {},
   "source": [
    "### Questions:\n",
    "1. Create  an empty dictionary called dog\n",
    "2. Add name, color, breed, legs, age to the dog dictionary\n",
    "3. Create a student dictionary and add first_name, last_name, gender, age, marital status, skills, country, city and address as keys for the dictionary\n",
    "4. Get the length of the student dictionary\n",
    "5. Get the value of skills and check the data type, it should be a list\n",
    "6. Modify the skills values by adding one or two skills\n",
    "7. Get the dictionary keys as a list\n",
    "8. Get the dictionary values as a list\n",
    "9. Change the dictionary to a list of tuples using _items()_ method\n",
    "10. Delete one of the items in the dictionary\n",
    "11. Delete one of the dictionaries"
   ]
  },
  {
   "cell_type": "markdown",
   "metadata": {},
   "source": [
    "1. Create an empty dictionary called dog"
   ]
  },
  {
   "cell_type": "code",
   "execution_count": 1,
   "metadata": {},
   "outputs": [],
   "source": [
    "dog = {}"
   ]
  },
  {
   "cell_type": "markdown",
   "metadata": {},
   "source": [
    "2. Add name, color, breed, legs, age to the dog dictionary"
   ]
  },
  {
   "cell_type": "code",
   "execution_count": 2,
   "metadata": {},
   "outputs": [
    {
     "name": "stdout",
     "output_type": "stream",
     "text": [
      "Dog dictionary: {'name': 'Buddy', 'color': 'Brown', 'breed': 'Golden Retriever', 'legs': 4, 'age': 3}\n"
     ]
    }
   ],
   "source": [
    "dog['name'] = 'Buddy'\n",
    "dog['color'] = 'Brown'\n",
    "dog['breed'] = 'Golden Retriever'\n",
    "dog['legs'] = 4\n",
    "dog['age'] = 3\n",
    "print(\"Dog dictionary:\", dog)"
   ]
  },
  {
   "cell_type": "markdown",
   "metadata": {},
   "source": [
    "3. Create a student dictionary and add first_name, last_name, gender, age, marital status, skills, country, city, and address as keys for the dictionary"
   ]
  },
  {
   "cell_type": "code",
   "execution_count": 3,
   "metadata": {},
   "outputs": [
    {
     "name": "stdout",
     "output_type": "stream",
     "text": [
      "Student dictionary: {'first_name': 'Muhammad', 'last_name': 'Nafiu', 'gender': 'Male', 'age': 16, 'marital_status': 'Single', 'skills': ['Python', 'Data Analysis'], 'country': 'Nigeria', 'city': 'Kano', 'address': '109 Amina Street'}\n"
     ]
    }
   ],
   "source": [
    "student = {\n",
    "    'first_name': 'Muhammad',\n",
    "    'last_name': 'Nafiu',\n",
    "    'gender': 'Male',\n",
    "    'age': 16,\n",
    "    'marital_status': 'Single',\n",
    "    'skills': ['Python', 'Data Analysis'],\n",
    "    'country': 'Nigeria',\n",
    "    'city': 'Kano',\n",
    "    'address': '109 Amina Street'\n",
    "}\n",
    "print(\"Student dictionary:\", student)"
   ]
  },
  {
   "cell_type": "markdown",
   "metadata": {},
   "source": [
    "4. Get the length of the student dictionary"
   ]
  },
  {
   "cell_type": "code",
   "execution_count": 4,
   "metadata": {},
   "outputs": [
    {
     "name": "stdout",
     "output_type": "stream",
     "text": [
      "Length of student dictionary: 9\n"
     ]
    }
   ],
   "source": [
    "print(\"Length of student dictionary:\", len(student))"
   ]
  },
  {
   "cell_type": "markdown",
   "metadata": {},
   "source": [
    "5. Get the value of skills and check the data type, it should be a list"
   ]
  },
  {
   "cell_type": "code",
   "execution_count": 5,
   "metadata": {},
   "outputs": [
    {
     "name": "stdout",
     "output_type": "stream",
     "text": [
      "Skills: ['Python', 'Data Analysis']\n",
      "Type of skills: <class 'list'>\n"
     ]
    }
   ],
   "source": [
    "skills = student['skills']\n",
    "print(\"Skills:\", skills)\n",
    "print(\"Type of skills:\", type(skills))"
   ]
  },
  {
   "cell_type": "markdown",
   "metadata": {},
   "source": [
    "6. Modify the skills values by adding one or two skills"
   ]
  },
  {
   "cell_type": "code",
   "execution_count": 6,
   "metadata": {},
   "outputs": [
    {
     "name": "stdout",
     "output_type": "stream",
     "text": [
      "Updated skills: ['Python', 'Data Analysis', 'Python', 'Public Speaking']\n"
     ]
    }
   ],
   "source": [
    "student['skills'].extend(['Python', 'Public Speaking'])\n",
    "print(\"Updated skills:\", student['skills'])"
   ]
  },
  {
   "cell_type": "markdown",
   "metadata": {},
   "source": [
    " 7. Get the dictionary keys as a list"
   ]
  },
  {
   "cell_type": "code",
   "execution_count": 7,
   "metadata": {},
   "outputs": [
    {
     "name": "stdout",
     "output_type": "stream",
     "text": [
      "Dictionary keys: ['first_name', 'last_name', 'gender', 'age', 'marital_status', 'skills', 'country', 'city', 'address']\n"
     ]
    }
   ],
   "source": [
    "keys = list(student.keys())\n",
    "print(\"Dictionary keys:\", keys)"
   ]
  },
  {
   "cell_type": "markdown",
   "metadata": {},
   "source": [
    " 8. Get the dictionary values as a list"
   ]
  },
  {
   "cell_type": "code",
   "execution_count": 8,
   "metadata": {},
   "outputs": [
    {
     "name": "stdout",
     "output_type": "stream",
     "text": [
      "Dictionary values: ['Muhammad', 'Nafiu', 'Male', 16, 'Single', ['Python', 'Data Analysis', 'Python', 'Public Speaking'], 'Nigeria', 'Kano', '109 Amina Street']\n"
     ]
    }
   ],
   "source": [
    "values = list(student.values())\n",
    "print(\"Dictionary values:\", values)"
   ]
  },
  {
   "cell_type": "markdown",
   "metadata": {},
   "source": [
    "9. Change the dictionary to a list of tuples using items() method"
   ]
  },
  {
   "cell_type": "code",
   "execution_count": 9,
   "metadata": {},
   "outputs": [
    {
     "name": "stdout",
     "output_type": "stream",
     "text": [
      "List of tuples: [('first_name', 'Muhammad'), ('last_name', 'Nafiu'), ('gender', 'Male'), ('age', 16), ('marital_status', 'Single'), ('skills', ['Python', 'Data Analysis', 'Python', 'Public Speaking']), ('country', 'Nigeria'), ('city', 'Kano'), ('address', '109 Amina Street')]\n"
     ]
    }
   ],
   "source": [
    "items = list(student.items())\n",
    "print(\"List of tuples:\", items)"
   ]
  },
  {
   "cell_type": "markdown",
   "metadata": {},
   "source": [
    " 10. Delete one of the items in the dictionary"
   ]
  },
  {
   "cell_type": "code",
   "execution_count": 10,
   "metadata": {},
   "outputs": [
    {
     "name": "stdout",
     "output_type": "stream",
     "text": [
      "Student dictionary after deleting 'address': {'first_name': 'Muhammad', 'last_name': 'Nafiu', 'gender': 'Male', 'age': 16, 'marital_status': 'Single', 'skills': ['Python', 'Data Analysis', 'Python', 'Public Speaking'], 'country': 'Nigeria', 'city': 'Kano'}\n"
     ]
    }
   ],
   "source": [
    "del student['address']\n",
    "print(\"Student dictionary after deleting 'address':\", student)"
   ]
  },
  {
   "cell_type": "markdown",
   "metadata": {},
   "source": [
    "11. Delete one of the dictionaries"
   ]
  },
  {
   "cell_type": "code",
   "execution_count": 11,
   "metadata": {},
   "outputs": [
    {
     "name": "stdout",
     "output_type": "stream",
     "text": [
      "Dog dictionary deleted.\n"
     ]
    }
   ],
   "source": [
    "del dog\n",
    "print(\"Dog dictionary deleted.\")"
   ]
  }
 ],
 "metadata": {
  "kernelspec": {
   "display_name": "Python 3",
   "language": "python",
   "name": "python3"
  },
  "language_info": {
   "codemirror_mode": {
    "name": "ipython",
    "version": 3
   },
   "file_extension": ".py",
   "mimetype": "text/x-python",
   "name": "python",
   "nbconvert_exporter": "python",
   "pygments_lexer": "ipython3",
   "version": "3.12.2"
  }
 },
 "nbformat": 4,
 "nbformat_minor": 2
}
