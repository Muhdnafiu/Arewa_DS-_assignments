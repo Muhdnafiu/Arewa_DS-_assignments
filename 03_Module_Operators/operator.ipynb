{
 "cells": [
  {
   "cell_type": "markdown",
   "metadata": {},
   "source": [
    "# Day 3: 30 Days of python programming"
   ]
  },
  {
   "cell_type": "markdown",
   "metadata": {},
   "source": [
    "## 💻 Exercises - Module 3"
   ]
  },
  {
   "cell_type": "markdown",
   "metadata": {},
   "source": [
    "1. Declare your age as integer variable"
   ]
  },
  {
   "cell_type": "code",
   "execution_count": null,
   "metadata": {},
   "outputs": [],
   "source": [
    "age = 21"
   ]
  },
  {
   "cell_type": "markdown",
   "metadata": {},
   "source": [
    "2. Declare your height as a float variable"
   ]
  },
  {
   "cell_type": "code",
   "execution_count": null,
   "metadata": {},
   "outputs": [],
   "source": [
    "height = 50.2"
   ]
  },
  {
   "cell_type": "markdown",
   "metadata": {},
   "source": [
    "3. Declare a variable that store a complex number"
   ]
  },
  {
   "cell_type": "code",
   "execution_count": null,
   "metadata": {},
   "outputs": [],
   "source": [
    "complex_number = 3 + 4j"
   ]
  },
  {
   "cell_type": "markdown",
   "metadata": {},
   "source": [
    "4. Write a script that prompts the user to enter base and height of the triangle and calculate an area of this triangle (area = 0.5 x b x h)."
   ]
  },
  {
   "cell_type": "code",
   "execution_count": null,
   "metadata": {},
   "outputs": [],
   "source": [
    "base = float(input(\"Enter base: \"))\n",
    "height = float(input(\"Enter height: \"))\n",
    "area_of_trianlge = 0.5 * base * height\n",
    "print(f\"The area of the triangle is {area_of_trianlge}\")"
   ]
  },
  {
   "cell_type": "markdown",
   "metadata": {},
   "source": [
    "5. Write a script that prompts the user to enter side a, side b, and side c of the triangle. Calculate the perimeter of the triangle (perimeter = a + b + c)."
   ]
  },
  {
   "cell_type": "code",
   "execution_count": null,
   "metadata": {},
   "outputs": [],
   "source": [
    "side_a = float(input(\"Enter side a: \"))\n",
    "side_b = float(input(\"Enter side b: \"))\n",
    "side_c = float(input(\"Enter side c: \"))\n",
    "perimeter = side_a + side_b + side_c\n",
    "print(f\"the perimter of the triangle is {perimeter}\")"
   ]
  },
  {
   "cell_type": "markdown",
   "metadata": {},
   "source": [
    "6. Get length and width of a rectangle using prompt. Calculate its area (area = length x width) and perimeter (perimeter = 2 x (length + width))"
   ]
  },
  {
   "cell_type": "code",
   "execution_count": null,
   "metadata": {},
   "outputs": [],
   "source": [
    "length = float(input())\n",
    "width = float(input())\n",
    "area = length * width\n",
    "print(area)"
   ]
  },
  {
   "cell_type": "code",
   "execution_count": null,
   "metadata": {},
   "outputs": [],
   "source": [
    "length = float(input())\n",
    "width = float(input())\n",
    "perimeter = 2 * (length * width)\n",
    "print(perimeter)"
   ]
  },
  {
   "cell_type": "markdown",
   "metadata": {},
   "source": [
    "7. Get radius of a circle using prompt. Calculate the area (area = pi x r x r) and circumference (c = 2 x pi x r) where pi = 3.14."
   ]
  },
  {
   "cell_type": "code",
   "execution_count": null,
   "metadata": {},
   "outputs": [],
   "source": [
    "pi = 3.14\n",
    "r = float(input())\n",
    "area = pi * r * r\n",
    "print(area)"
   ]
  },
  {
   "cell_type": "code",
   "execution_count": null,
   "metadata": {},
   "outputs": [],
   "source": [
    "pi = 3.14\n",
    "r = float(input())\n",
    "c = 2 * (pi * r)\n",
    "print(area)"
   ]
  },
  {
   "cell_type": "markdown",
   "metadata": {},
   "source": [
    "8. Calculate the slope, x-intercept and y-intercept of y = 2x -2"
   ]
  },
  {
   "cell_type": "code",
   "execution_count": null,
   "metadata": {},
   "outputs": [],
   "source": [
    "slope = 2\n",
    "y_intercept = -2\n",
    "x_intercept = -y_intercept / slope\n",
    "print(f\"y_intercept: {y_intercept} (Point: (0, {y_intercept})\")\n",
    "print(f\"x_intercept: {x_intercept}(Point: ({x_intercept}, 0)\")"
   ]
  },
  {
   "cell_type": "markdown",
   "metadata": {},
   "source": [
    "9. Slope is (m = y2-y1/x2-x1). Find the slope and [Euclidean distance]"
   ]
  },
  {
   "cell_type": "code",
   "execution_count": null,
   "metadata": {},
   "outputs": [],
   "source": [
    "y1 = float(input())\n",
    "y2 = float(input())\n",
    "x1 = float(input())\n",
    "x2 = float(input())\n",
    "\n",
    "m = y2 - y1 / x2 - x1\n",
    "print(f\"slope {m}\")"
   ]
  },
  {
   "cell_type": "markdown",
   "metadata": {},
   "source": [
    "10. Compare the slopes in tasks 8 and 9"
   ]
  },
  {
   "cell_type": "markdown",
   "metadata": {},
   "source": [
    "11. Calculate the value of y (y = x^2 + 6x + 9). Try to use different x values and figure out at what x value y is going to be 0."
   ]
  },
  {
   "cell_type": "code",
   "execution_count": null,
   "metadata": {},
   "outputs": [],
   "source": [
    "x = int(input())\n",
    "calculate_y = x ** 2 + 6 * x + 9\n",
    "y = \"\"\n",
    "print(y == 0)\n"
   ]
  },
  {
   "cell_type": "markdown",
   "metadata": {},
   "source": [
    "12. Find the length of 'python' and 'dragon' and make a falsy comparison statement."
   ]
  },
  {
   "cell_type": "code",
   "execution_count": null,
   "metadata": {},
   "outputs": [],
   "source": [
    "python = \"python\"\n",
    "dragon = \"dragon\"\n",
    "print(len(\"python\") != len(\"dragon\"))"
   ]
  },
  {
   "cell_type": "markdown",
   "metadata": {},
   "source": [
    "13. Use _and_ operator to check if 'on' is found in both 'python' and 'dragon'"
   ]
  },
  {
   "cell_type": "code",
   "execution_count": null,
   "metadata": {},
   "outputs": [],
   "source": [
    "python = \"python\"\n",
    "dragon = \"dragon\"\n",
    "print('on' in 'python')\n",
    "print('on' in 'dragon')"
   ]
  },
  {
   "cell_type": "markdown",
   "metadata": {},
   "source": [
    "14. _I hope this course is not full of jargon_. Use _in_ operator to check if _jargon_ is in the sentence."
   ]
  },
  {
   "cell_type": "code",
   "execution_count": null,
   "metadata": {},
   "outputs": [],
   "source": [
    "check = 'I hope this code is not full of jargon'\n",
    "print(\"jargon\" in check)"
   ]
  },
  {
   "cell_type": "markdown",
   "metadata": {},
   "source": [
    "15. There is no 'on' in both dragon and python"
   ]
  },
  {
   "cell_type": "code",
   "execution_count": null,
   "metadata": {},
   "outputs": [],
   "source": [
    "python = \"python\"\n",
    "dragon = \"dragon\"\n",
    "if \"on\" in python and \"on\" in dragon:\n",
    "    print(\"The substring 'on' is not found in both strings.\")"
   ]
  },
  {
   "cell_type": "markdown",
   "metadata": {},
   "source": [
    "16. Find the length of the text python and convert the value to float and convert it to string"
   ]
  },
  {
   "cell_type": "code",
   "execution_count": null,
   "metadata": {},
   "outputs": [],
   "source": [
    "text = 'python'\n",
    "\n",
    "convert_float = len(text)\n",
    "print(\"printed text to float:\",convert_float)        #printing lenth of the text python\n",
    "\n",
    "print(f\"printed length to float:\",float(convert_float))     #printing converting length to float\n",
    "\n",
    "convert_str = str(text)\n",
    "print(\"printed length to string:\",str(convert_str))     #printing converting text to string\n"
   ]
  },
  {
   "cell_type": "markdown",
   "metadata": {},
   "source": [
    "17. Even numbers are divisible by 2 and the remainder is zero. How do you check if a number is even or not using python?"
   ]
  },
  {
   "cell_type": "code",
   "execution_count": null,
   "metadata": {},
   "outputs": [],
   "source": [
    "unknown_number = int(input(\"Enter a number: \"))\n",
    "\n",
    "if unknown_number %2 == 0:\n",
    "    print(f\"This number is an even number: \", unknown_number)\n",
    "else:\n",
    "    print(f\"This number is not an even number: \", unknown_number)"
   ]
  },
  {
   "cell_type": "markdown",
   "metadata": {},
   "source": [
    "18. Check if the floor division of 7 by 3 is equal to the int converted value of 2.7"
   ]
  },
  {
   "cell_type": "code",
   "execution_count": null,
   "metadata": {},
   "outputs": [],
   "source": [
    "floor_division = 7 // 3\n",
    "\n",
    "print(floor_division == 2.7)"
   ]
  },
  {
   "cell_type": "markdown",
   "metadata": {},
   "source": [
    "19. Check if type of '10' is equal to type of 10"
   ]
  },
  {
   "cell_type": "code",
   "execution_count": null,
   "metadata": {},
   "outputs": [],
   "source": [
    "print(type('10') == type(10))"
   ]
  },
  {
   "cell_type": "markdown",
   "metadata": {},
   "source": [
    "20. Check if int('9.8') is equal to 10"
   ]
  },
  {
   "cell_type": "code",
   "execution_count": null,
   "metadata": {},
   "outputs": [],
   "source": [
    "print(int(9.8) == 10)"
   ]
  },
  {
   "cell_type": "markdown",
   "metadata": {},
   "source": [
    "21. Writ a script that prompts the user to enter hours and rate per hour. Calculate pay of the person?\n",
    "\n",
    "Enter hours: \n",
    "\n",
    "Enter rate per hour: \n",
    "\n",
    "Your weekly earning is _____"
   ]
  },
  {
   "cell_type": "code",
   "execution_count": null,
   "metadata": {},
   "outputs": [],
   "source": [
    "hours = float(input())\n",
    "print(\"Enter hour(s): \", hours)       #prompting a usee to enter the hours\n",
    "\n",
    "rate_per_hour = float(input())\n",
    "print(\"Enter rate per hour: \", rate_per_hour)       #prompting a user to enter the rate per hour\n",
    "\n",
    "weekly_earnings = hours * rate_per_hour\n",
    "print(\"Your weekyl earnngs is: \", weekly_earnings)      #printing the weekly earnings "
   ]
  },
  {
   "cell_type": "markdown",
   "metadata": {},
   "source": [
    "22. Write a script that prompts the user to enter number of years. Calculate the number of seconds a person can live. Assume a person can live hundred years\n",
    "\n",
    "Enter number of years you have lived: 100\n",
    "\n",
    "You have lived for 3153600000 seconds."
   ]
  },
  {
   "cell_type": "code",
   "execution_count": null,
   "metadata": {},
   "outputs": [],
   "source": [
    "years_lived = int(input())      #inputing the yeras lived\n",
    "\n",
    "seconds_lived = 360 * 24 * 365 * years_lived        #seconds lived including the seconds per hour, hors per day, days per year and finally the years lived\n",
    "\n",
    "print(f\"You have lived for {seconds_lived} seconds\")"
   ]
  },
  {
   "cell_type": "markdown",
   "metadata": {},
   "source": [
    "23. Write a Python script that displays the following table\n",
    "    \n",
    "1 1 1 1 1\n",
    "\n",
    "2 1 2 4 8\n",
    "\n",
    "3 1 3 9 27\n",
    "\n",
    "4 1 4 16 64\n",
    "\n",
    "5 1 5 25 125"
   ]
  },
  {
   "cell_type": "code",
   "execution_count": 103,
   "metadata": {},
   "outputs": [
    {
     "name": "stdout",
     "output_type": "stream",
     "text": [
      "1     1     1     1     1    \n",
      "2     1     2     4     8    \n",
      "3     1     3     9     27   \n",
      "4     1     4     16    64   \n",
      "5     1     5     25    125  \n"
     ]
    }
   ],
   "source": [
    "for n in range(1, 6):\n",
    "\n",
    "    print(f\"{n:<5} {1:<5} {n:<5} {n**2:<5} {n**3:<5}\")"
   ]
  }
 ],
 "metadata": {
  "kernelspec": {
   "display_name": "base",
   "language": "python",
   "name": "python3"
  },
  "language_info": {
   "codemirror_mode": {
    "name": "ipython",
    "version": 3
   },
   "file_extension": ".py",
   "mimetype": "text/x-python",
   "name": "python",
   "nbconvert_exporter": "python",
   "pygments_lexer": "ipython3",
   "version": "3.12.4"
  }
 },
 "nbformat": 4,
 "nbformat_minor": 2
}
