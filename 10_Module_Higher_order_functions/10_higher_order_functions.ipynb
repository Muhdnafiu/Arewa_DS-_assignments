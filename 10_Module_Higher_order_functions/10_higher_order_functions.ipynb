{
 "cells": [
  {
   "cell_type": "markdown",
   "metadata": {},
   "source": [
    "## 💻 Higher Order Functions Exercises"
   ]
  },
  {
   "cell_type": "markdown",
   "metadata": {},
   "source": [
    "# Exercises: Level 1"
   ]
  },
  {
   "cell_type": "markdown",
   "metadata": {},
   "source": [
    "### 1. Difference between map, filter, and reduce:"
   ]
  },
  {
   "cell_type": "markdown",
   "metadata": {},
   "source": [
    "Map:\n",
    "\n",
    "Used to transform each element of a sequence (e.g., list, tuple) based on a given function.\n",
    "Returns a new sequence of the same length as the original.\n"
   ]
  },
  {
   "cell_type": "code",
   "execution_count": 2,
   "metadata": {},
   "outputs": [
    {
     "name": "stdout",
     "output_type": "stream",
     "text": [
      "[1, 4, 9, 16]\n"
     ]
    }
   ],
   "source": [
    "# Example:\n",
    "numbers = [1, 2, 3, 4]\n",
    "squared = list(map(lambda x: x**2, numbers))\n",
    "print(squared) "
   ]
  },
  {
   "cell_type": "markdown",
   "metadata": {},
   "source": [
    "Filter:\n",
    "\n",
    "1. Used to filter elements from a sequence based on a condition provided by a function.\n",
    "2. Returns a new sequence containing only elements that satisfy the condition.\n"
   ]
  },
  {
   "cell_type": "code",
   "execution_count": 3,
   "metadata": {},
   "outputs": [
    {
     "name": "stdout",
     "output_type": "stream",
     "text": [
      "[2, 4, 6]\n"
     ]
    }
   ],
   "source": [
    "# Example:\n",
    "numbers = [1, 2, 3, 4, 5, 6]\n",
    "even_numbers = list(filter(lambda x: x % 2 == 0, numbers))\n",
    "print(even_numbers)"
   ]
  },
  {
   "cell_type": "markdown",
   "metadata": {},
   "source": [
    "Reduce:\n",
    "\n",
    "1. Used to apply a function cumulatively to the elements of a sequence, reducing the sequence to a single value.\n",
    "2. Available in the functools module.\n"
   ]
  },
  {
   "cell_type": "code",
   "execution_count": 4,
   "metadata": {},
   "outputs": [
    {
     "name": "stdout",
     "output_type": "stream",
     "text": [
      "24\n"
     ]
    }
   ],
   "source": [
    "# Example:\n",
    "from functools import reduce\n",
    "numbers = [1, 2, 3, 4]\n",
    "product = reduce(lambda x, y: x * y, numbers)\n",
    "print(product)"
   ]
  },
  {
   "cell_type": "markdown",
   "metadata": {},
   "source": [
    "### 2. Difference between higher-order functions, closures, and decorators:"
   ]
  },
  {
   "cell_type": "markdown",
   "metadata": {},
   "source": [
    "Higher-order function:\n",
    "\n",
    "A function that either takes another function as an argument, returns a function, or both.\n"
   ]
  },
  {
   "cell_type": "code",
   "execution_count": 5,
   "metadata": {},
   "outputs": [
    {
     "name": "stdout",
     "output_type": "stream",
     "text": [
      "25\n"
     ]
    }
   ],
   "source": [
    "def higher_order(func, value):\n",
    "    return func(value)\n",
    "\n",
    "print(higher_order(lambda x: x**2, 5))\n"
   ]
  },
  {
   "cell_type": "markdown",
   "metadata": {},
   "source": [
    "Closure:\n",
    "\n",
    "A function defined inside another function that remembers the variables from the enclosing scope, even if the outer function has finished execution.\n"
   ]
  },
  {
   "cell_type": "code",
   "execution_count": 6,
   "metadata": {},
   "outputs": [
    {
     "name": "stdout",
     "output_type": "stream",
     "text": [
      "15\n"
     ]
    }
   ],
   "source": [
    "def outer_func(num):\n",
    "    def inner_func(x):\n",
    "        return x + num\n",
    "    return inner_func\n",
    "\n",
    "add_five = outer_func(5)\n",
    "print(add_five(10))"
   ]
  },
  {
   "cell_type": "markdown",
   "metadata": {},
   "source": [
    "Decorator:\n",
    "\n",
    "A special higher-order function used to modify or extend the behavior of another function without altering its structure."
   ]
  },
  {
   "cell_type": "code",
   "execution_count": 7,
   "metadata": {},
   "outputs": [
    {
     "name": "stdout",
     "output_type": "stream",
     "text": [
      "Before function call\n",
      "Hello!\n",
      "After function call\n"
     ]
    }
   ],
   "source": [
    "def decorator(func):\n",
    "    def wrapper():\n",
    "        print(\"Before function call\")\n",
    "        func()\n",
    "        print(\"After function call\")\n",
    "    return wrapper\n",
    "\n",
    "@decorator\n",
    "def say_hello():\n",
    "    print(\"Hello!\")\n",
    "\n",
    "say_hello()\n"
   ]
  },
  {
   "cell_type": "markdown",
   "metadata": {},
   "source": [
    "### 3. Define a call function before using map, filter, or reduce:"
   ]
  },
  {
   "cell_type": "code",
   "execution_count": 8,
   "metadata": {},
   "outputs": [
    {
     "name": "stdout",
     "output_type": "stream",
     "text": [
      "[1, 4, 9, 16, 25]\n",
      "[2, 4]\n",
      "120\n"
     ]
    }
   ],
   "source": [
    "# Example of a call function:\n",
    "def call_function(func, iterable):\n",
    "    return func(iterable)\n",
    "# Using call_function with map, filter, and reduce:\n",
    "from functools import reduce\n",
    "\n",
    "numbers = [1, 2, 3, 4, 5]\n",
    "\n",
    "def square(x):\n",
    "    return x**2\n",
    "\n",
    "def is_even(x):\n",
    "    return x % 2 == 0\n",
    "\n",
    "def multiply(x, y):\n",
    "    return x * y\n",
    "\n",
    "print(call_function(lambda x: list(map(square, x)), numbers))\n",
    "print(call_function(lambda x: list(filter(is_even, x)), numbers))\n",
    "print(call_function(lambda x: reduce(multiply, x), numbers))\n",
    "\n"
   ]
  },
  {
   "cell_type": "markdown",
   "metadata": {},
   "source": [
    "### 4. Use for loop to print each country in the countries list:"
   ]
  },
  {
   "cell_type": "code",
   "execution_count": 9,
   "metadata": {},
   "outputs": [
    {
     "name": "stdout",
     "output_type": "stream",
     "text": [
      "Estonia\n",
      "Finland\n",
      "Sweden\n",
      "Denmark\n",
      "Norway\n",
      "Iceland\n"
     ]
    }
   ],
   "source": [
    "countries =  ['Estonia', 'Finland', 'Sweden', 'Denmark', 'Norway', 'Iceland']\n",
    "for country in countries:\n",
    "    print(country)\n",
    "\n"
   ]
  },
  {
   "cell_type": "markdown",
   "metadata": {},
   "source": [
    "### 5. Use for loop to print each name in the names list:"
   ]
  },
  {
   "cell_type": "code",
   "execution_count": 10,
   "metadata": {},
   "outputs": [
    {
     "name": "stdout",
     "output_type": "stream",
     "text": [
      "Asabeneh\n",
      "Lidiya\n",
      "Ermias\n",
      "Abraham\n"
     ]
    }
   ],
   "source": [
    "names = ['Asabeneh', 'Lidiya', 'Ermias', 'Abraham']\n",
    "for name in names:\n",
    "    print(name)"
   ]
  },
  {
   "cell_type": "markdown",
   "metadata": {},
   "source": [
    "### 6. Use for loop to print each number in the numbers list:"
   ]
  },
  {
   "cell_type": "code",
   "execution_count": 11,
   "metadata": {},
   "outputs": [
    {
     "name": "stdout",
     "output_type": "stream",
     "text": [
      "1\n",
      "2\n",
      "3\n",
      "4\n",
      "5\n",
      "6\n",
      "7\n",
      "8\n",
      "9\n",
      "10\n"
     ]
    }
   ],
   "source": [
    "numbers = [1, 2, 3, 4, 5, 6, 7, 8, 9, 10]\n",
    "for number in numbers:\n",
    "    print(number)\n"
   ]
  },
  {
   "cell_type": "markdown",
   "metadata": {},
   "source": [
    "# Exercises: Level 2"
   ]
  },
  {
   "cell_type": "markdown",
   "metadata": {},
   "source": [
    "Use map to create a new list by changing each country to uppercase in the countries list"
   ]
  },
  {
   "cell_type": "code",
   "execution_count": 12,
   "metadata": {},
   "outputs": [
    {
     "name": "stdout",
     "output_type": "stream",
     "text": [
      "['ESTONIA', 'FINLAND', 'SWEDEN', 'DENMARK', 'NORWAY', 'ICELAND']\n"
     ]
    }
   ],
   "source": [
    "countries = ['Estonia', 'Finland', 'Sweden', 'Denmark', 'Norway', 'Iceland']\n",
    "upper_cased_countries = list(map(lambda country: country.upper(), countries))\n",
    "print(upper_cased_countries)"
   ]
  },
  {
   "cell_type": "markdown",
   "metadata": {},
   "source": [
    "Use map to create a new list by changing each number to its square in the numbers list"
   ]
  },
  {
   "cell_type": "code",
   "execution_count": null,
   "metadata": {},
   "outputs": [],
   "source": [
    "numbers = [1, 2, 3, 4, 5, 6, 7, 8, 9, 10]\n",
    "squared_numbers = list(map(lambda x: x**2, numbers))\n",
    "print(squared_numbers)"
   ]
  },
  {
   "cell_type": "markdown",
   "metadata": {},
   "source": [
    "Use map to change each name to uppercase in the names list"
   ]
  },
  {
   "cell_type": "code",
   "execution_count": null,
   "metadata": {},
   "outputs": [],
   "source": [
    "names = ['Asabeneh', 'Lidiya', 'Ermias', 'Abraham']\n",
    "uppercase_names = list(map(lambda name: name.upper(), names))\n"
   ]
  },
  {
   "cell_type": "markdown",
   "metadata": {},
   "source": [
    "Use filter to filter out countries containing 'land'."
   ]
  },
  {
   "cell_type": "code",
   "execution_count": 14,
   "metadata": {},
   "outputs": [
    {
     "name": "stdout",
     "output_type": "stream",
     "text": [
      "['Finland', 'Iceland']\n"
     ]
    }
   ],
   "source": [
    "countries_with_land = list(filter(lambda country: 'land' in country.lower(), countries))\n",
    "print(countries_with_land)"
   ]
  },
  {
   "cell_type": "markdown",
   "metadata": {},
   "source": [
    "Use filter to filter out countries having exactly six characters."
   ]
  },
  {
   "cell_type": "code",
   "execution_count": 15,
   "metadata": {},
   "outputs": [
    {
     "name": "stdout",
     "output_type": "stream",
     "text": [
      "['Sweden', 'Norway']\n"
     ]
    }
   ],
   "source": [
    "six_char_countries = list(filter(lambda country: len(country) == 6, countries))\n",
    "print(six_char_countries)"
   ]
  },
  {
   "cell_type": "markdown",
   "metadata": {},
   "source": [
    "Use filter to filter out countries containing six letters and more in the country list."
   ]
  },
  {
   "cell_type": "code",
   "execution_count": 16,
   "metadata": {},
   "outputs": [
    {
     "name": "stdout",
     "output_type": "stream",
     "text": [
      "['Estonia', 'Finland', 'Sweden', 'Denmark', 'Norway', 'Iceland']\n"
     ]
    }
   ],
   "source": [
    "long_countries = list(filter(lambda country: len(country) >= 6, countries))\n",
    "print(long_countries)"
   ]
  },
  {
   "cell_type": "markdown",
   "metadata": {},
   "source": [
    "Use filter to filter out countries starting with an 'E'"
   ]
  },
  {
   "cell_type": "code",
   "execution_count": 19,
   "metadata": {},
   "outputs": [
    {
     "name": "stdout",
     "output_type": "stream",
     "text": [
      "['Finland', 'Sweden', 'Denmark', 'Norway', 'Iceland']\n"
     ]
    }
   ],
   "source": [
    "countries_starting_with_e = list(filter(lambda country: not country.startswith('E'), countries))\n",
    "print(countries_starting_with_e)"
   ]
  },
  {
   "cell_type": "markdown",
   "metadata": {},
   "source": [
    "Chain two or more list iterators (eg. arr.map(callback).filter(callback).reduce(callback))"
   ]
  },
  {
   "cell_type": "code",
   "execution_count": 20,
   "metadata": {},
   "outputs": [
    {
     "name": "stdout",
     "output_type": "stream",
     "text": [
      "['ESTONIA', 'FINLAND', 'SWEDEN', 'DENMARK', 'NORWAY', 'ICELAND']\n"
     ]
    }
   ],
   "source": [
    "chained = list(map(lambda country: country.upper(), filter(lambda country: len(country) >= 6, countries)))\n",
    "print(chained)"
   ]
  },
  {
   "cell_type": "markdown",
   "metadata": {},
   "source": [
    "Declare a function called get_string_lists which takes a list as a parameter and then returns a list containing only string items"
   ]
  },
  {
   "cell_type": "code",
   "execution_count": 28,
   "metadata": {},
   "outputs": [
    {
     "data": {
      "text/plain": [
       "<function __main__.get_string_lists(input_list)>"
      ]
     },
     "execution_count": 28,
     "metadata": {},
     "output_type": "execute_result"
    }
   ],
   "source": [
    "def get_string_lists(input_list):\n",
    "    return [item for item in input_list if isinstance(item, str)]\n",
    "get_string_lists"
   ]
  },
  {
   "cell_type": "markdown",
   "metadata": {},
   "source": [
    "Use reduce to sum all the numbers in the numbers list."
   ]
  },
  {
   "cell_type": "code",
   "execution_count": 23,
   "metadata": {},
   "outputs": [
    {
     "name": "stdout",
     "output_type": "stream",
     "text": [
      "55\n"
     ]
    }
   ],
   "source": [
    "from functools import reduce\n",
    "total_sum = reduce(lambda x, y: x + y, numbers)\n",
    "print(total_sum)"
   ]
  },
  {
   "cell_type": "markdown",
   "metadata": {},
   "source": [
    "Use reduce to concatenate all the countries and to produce this sentence: Estonia, Finland, Sweden, Denmark, Norway, and Iceland are north European countries"
   ]
  },
  {
   "cell_type": "code",
   "execution_count": 24,
   "metadata": {},
   "outputs": [
    {
     "name": "stdout",
     "output_type": "stream",
     "text": [
      "Estonia, Finland, Sweden, Denmark, Norway, Iceland are north European countries\n"
     ]
    }
   ],
   "source": [
    "countries_sentence = reduce(lambda x, y: f\"{x}, {y}\", countries)\n",
    "final_sentence = countries_sentence + ' are north European countries'\n",
    "print(final_sentence)"
   ]
  },
  {
   "cell_type": "markdown",
   "metadata": {},
   "source": [
    "Declare a function called categorize_countries that returns a list of countries with some common pattern (you can find the countries list in this repository as countries.js(eg 'land', 'ia', 'island', 'stan'))."
   ]
  },
  {
   "cell_type": "code",
   "execution_count": 27,
   "metadata": {},
   "outputs": [
    {
     "data": {
      "text/plain": [
       "<function __main__.categorize_countries()>"
      ]
     },
     "execution_count": 27,
     "metadata": {},
     "output_type": "execute_result"
    }
   ],
   "source": [
    "def categorize_countries():\n",
    "    patterns = ['land', 'ia', 'island', 'stan']\n",
    "    categorized_countries = []\n",
    "    for pattern in patterns:\n",
    "        categorized_countries += list(filter(lambda country: pattern in country.lower(), countries))\n",
    "    return categorized_countries\n",
    "categorize_countries"
   ]
  },
  {
   "cell_type": "markdown",
   "metadata": {},
   "source": [
    "Create a function returning a dictionary, where keys stand for starting letters of countries and values are the number of country names starting with that letter."
   ]
  },
  {
   "cell_type": "code",
   "execution_count": 29,
   "metadata": {},
   "outputs": [],
   "source": [
    "from collections import defaultdict\n",
    "def country_starting_letters():\n",
    "    country_dict = defaultdict(int)\n",
    "    for country in countries:\n",
    "        country_dict[country[0]] += 1\n",
    "    return dict(country_dict)"
   ]
  },
  {
   "cell_type": "markdown",
   "metadata": {},
   "source": [
    "Declare a get_first_ten_countries function - it returns a list of first ten countries from the countries.js list in the data folder."
   ]
  },
  {
   "cell_type": "code",
   "execution_count": 31,
   "metadata": {},
   "outputs": [
    {
     "data": {
      "text/plain": [
       "['Estonia', 'Finland', 'Sweden', 'Denmark', 'Norway', 'Iceland']"
      ]
     },
     "execution_count": 31,
     "metadata": {},
     "output_type": "execute_result"
    }
   ],
   "source": [
    "def get_first_ten_countries():\n",
    "    return countries[:10]"
   ]
  },
  {
   "cell_type": "markdown",
   "metadata": {},
   "source": [
    "Declare a get_last_ten_countries function that returns the last ten countries in the countries list."
   ]
  },
  {
   "cell_type": "code",
   "execution_count": 33,
   "metadata": {},
   "outputs": [
    {
     "data": {
      "text/plain": [
       "['Estonia', 'Finland', 'Sweden', 'Denmark', 'Norway', 'Iceland']"
      ]
     },
     "execution_count": 33,
     "metadata": {},
     "output_type": "execute_result"
    }
   ],
   "source": [
    "def get_last_ten_countries():\n",
    "    return countries[-10:]"
   ]
  },
  {
   "cell_type": "markdown",
   "metadata": {},
   "source": [
    "## Exercises: Level 3"
   ]
  },
  {
   "cell_type": "code",
   "execution_count": 47,
   "metadata": {},
   "outputs": [],
   "source": [
    "import country_data\n",
    "import countries_data\n"
   ]
  },
  {
   "cell_type": "markdown",
   "metadata": {},
   "source": [
    "1. Sort countries by name, by capital, by population"
   ]
  },
  {
   "cell_type": "code",
   "execution_count": 54,
   "metadata": {},
   "outputs": [
    {
     "name": "stdout",
     "output_type": "stream",
     "text": [
      "Countries successfully sorted.\n"
     ]
    }
   ],
   "source": [
    "# Load countries data with the correct encoding\n",
    "import json\n",
    "\n",
    "try:\n",
    "    with open('countries_data.json', encoding='utf-8') as data:\n",
    "        countries = json.load(data)\n",
    "    # Sort by name\n",
    "    countries_sorted_by_name = sorted(countries, key=lambda x: x['name'])\n",
    "    # Sort by capital\n",
    "    countries_sorted_by_capital = sorted(countries, key=lambda x: x['capital'])\n",
    "    # Sort by population\n",
    "    countries_sorted_by_population = sorted(countries, key=lambda x: x['population'])\n",
    "\n",
    "    print(\"Countries successfully sorted.\")\n",
    "except UnicodeDecodeError as e:\n",
    "    print(\"UnicodeDecodeError:\", e)\n",
    "\n"
   ]
  },
  {
   "cell_type": "markdown",
   "metadata": {},
   "source": [
    "Sort out the ten most spoken languages by location."
   ]
  },
  {
   "cell_type": "code",
   "execution_count": 56,
   "metadata": {},
   "outputs": [
    {
     "name": "stdout",
     "output_type": "stream",
     "text": [
      "[('English', 91), ('French', 45), ('Arabic', 25), ('Spanish', 24), ('Portuguese', 9), ('Russian', 9), ('Dutch', 8), ('German', 7), ('Chinese', 5), ('Serbian', 4)]\n"
     ]
    }
   ],
   "source": [
    "from collections import Counter\n",
    "\n",
    "# Count languages\n",
    "language_counts = (Counter(lang for country in countries for lang in country['languages']))\n",
    "\n",
    "# Ten most spoken languages\n",
    "most_spoken_languages = language_counts.most_common(10)\n",
    "print(most_spoken_languages)"
   ]
  },
  {
   "cell_type": "markdown",
   "metadata": {},
   "source": [
    "Sort out the ten most populated countries."
   ]
  },
  {
   "cell_type": "code",
   "execution_count": 58,
   "metadata": {},
   "outputs": [
    {
     "name": "stdout",
     "output_type": "stream",
     "text": [
      "[{'name': 'China', 'capital': 'Beijing', 'languages': ['Chinese'], 'population': 1377422166, 'flag': 'https://restcountries.eu/data/chn.svg', 'currency': 'Chinese yuan'}, {'name': 'India', 'capital': 'New Delhi', 'languages': ['Hindi', 'English'], 'population': 1295210000, 'flag': 'https://restcountries.eu/data/ind.svg', 'currency': 'Indian rupee'}, {'name': 'United States of America', 'capital': 'Washington, D.C.', 'languages': ['English'], 'population': 323947000, 'flag': 'https://restcountries.eu/data/usa.svg', 'currency': 'United States dollar'}, {'name': 'Indonesia', 'capital': 'Jakarta', 'languages': ['Indonesian'], 'population': 258705000, 'flag': 'https://restcountries.eu/data/idn.svg', 'currency': 'Indonesian rupiah'}, {'name': 'Brazil', 'capital': 'Brasília', 'languages': ['Portuguese'], 'population': 206135893, 'flag': 'https://restcountries.eu/data/bra.svg', 'currency': 'Brazilian real'}, {'name': 'Pakistan', 'capital': 'Islamabad', 'languages': ['English', 'Urdu'], 'population': 194125062, 'flag': 'https://restcountries.eu/data/pak.svg', 'currency': 'Pakistani rupee'}, {'name': 'Nigeria', 'capital': 'Abuja', 'languages': ['English'], 'population': 186988000, 'flag': 'https://restcountries.eu/data/nga.svg', 'currency': 'Nigerian naira'}, {'name': 'Bangladesh', 'capital': 'Dhaka', 'languages': ['Bengali'], 'population': 161006790, 'flag': 'https://restcountries.eu/data/bgd.svg', 'currency': 'Bangladeshi taka'}, {'name': 'Russian Federation', 'capital': 'Moscow', 'languages': ['Russian'], 'population': 146599183, 'flag': 'https://restcountries.eu/data/rus.svg', 'currency': 'Russian ruble'}, {'name': 'Japan', 'capital': 'Tokyo', 'languages': ['Japanese'], 'population': 126960000, 'flag': 'https://restcountries.eu/data/jpn.svg', 'currency': 'Japanese yen'}]\n"
     ]
    }
   ],
   "source": [
    "# Sort by population and get the top 10\n",
    "most_populated_countries = sorted(countries, key=lambda x: x['population'], reverse=True)[:10]\n",
    "print(most_populated_countries)"
   ]
  }
 ],
 "metadata": {
  "kernelspec": {
   "display_name": "Python 3",
   "language": "python",
   "name": "python3"
  },
  "language_info": {
   "codemirror_mode": {
    "name": "ipython",
    "version": 3
   },
   "file_extension": ".py",
   "mimetype": "text/x-python",
   "name": "python",
   "nbconvert_exporter": "python",
   "pygments_lexer": "ipython3",
   "version": "3.13.1"
  }
 },
 "nbformat": 4,
 "nbformat_minor": 2
}
