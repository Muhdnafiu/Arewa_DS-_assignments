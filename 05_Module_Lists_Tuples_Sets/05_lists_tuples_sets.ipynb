{
 "cells": [
  {
   "cell_type": "markdown",
   "metadata": {},
   "source": [
    "# DAY 5 = PYTHON PROGRAMMING"
   ]
  },
  {
   "cell_type": "markdown",
   "metadata": {},
   "source": [
    "## 💻 Exercises - Module 5"
   ]
  },
  {
   "cell_type": "markdown",
   "metadata": {},
   "source": [
    "### Exercises: Level 1\n",
    "\n",
    "1. Declare an empty list\n",
    "2. Declare a list with more than 5 items\n",
    "3. Find the length of your list\n",
    "4. Get the first item, the middle item and the last item of the list\n",
    "5. Declare a list called mixed_data_types, put your(name, age, height, marital status, address)\n",
    "6. Declare a list variable named it_companies and assign initial values Facebook, Google, Microsoft, Apple, IBM, Oracle and Amazon.\n",
    "7. Print the list using _print()_\n",
    "8. Print the number of companies in the list\n",
    "9. Print the first, middle and last company\n",
    "10. Print the list after modifying one of the companies\n",
    "11. Add an IT company to it_companies\n",
    "12. Insert an IT company in the middle of the companies list\n",
    "13. Change one of the it_companies names to uppercase (IBM excluded!)\n",
    "14. Join the it_companies with a string '#;&nbsp; '\n",
    "15. Check if a certain company exists in the it_companies list.\n",
    "16. Sort the list using sort() method\n",
    "17. Reverse the list in descending order using reverse() method\n",
    "18. Slice out the first 3 companies from the list\n",
    "19. Slice out the last 3 companies from the list\n",
    "20. Slice out the middle IT company or companies from the list\n",
    "21. Remove the first IT company from the list\n",
    "22. Remove the middle IT company or companies from the list\n",
    "23. Remove the last IT company from the list\n",
    "24. Remove all IT companies from the list\n",
    "25. Destroy the IT companies list\n",
    "26. Join the following lists:\n",
    "\n",
    "    ```py\n",
    "    front_end = ['HTML', 'CSS', 'JS', 'React', 'Redux']\n",
    "    back_end = ['Node','Express', 'MongoDB']\n",
    "    ```\n",
    "\n",
    "27. After joining the lists in question 26. Copy the joined list and assign it to a variable full_stack, then insert Python and SQL after Redux."
   ]
  },
  {
   "cell_type": "markdown",
   "metadata": {},
   "source": [
    "#### ANSWERS"
   ]
  },
  {
   "cell_type": "markdown",
   "metadata": {},
   "source": [
    "1. Declare an empty list"
   ]
  },
  {
   "cell_type": "code",
   "execution_count": 124,
   "metadata": {},
   "outputs": [],
   "source": [
    "empty_list = []"
   ]
  },
  {
   "cell_type": "markdown",
   "metadata": {},
   "source": [
    "2. Declare a list with more than 5 items"
   ]
  },
  {
   "cell_type": "code",
   "execution_count": 125,
   "metadata": {},
   "outputs": [],
   "source": [
    "my_list = [1,2,3,4,5,6,7,8,9,10,11]"
   ]
  },
  {
   "cell_type": "markdown",
   "metadata": {},
   "source": [
    "3. Find the length of your list"
   ]
  },
  {
   "cell_type": "code",
   "execution_count": 126,
   "metadata": {},
   "outputs": [
    {
     "data": {
      "text/plain": [
       "11"
      ]
     },
     "execution_count": 126,
     "metadata": {},
     "output_type": "execute_result"
    }
   ],
   "source": [
    "len(my_list)"
   ]
  },
  {
   "cell_type": "markdown",
   "metadata": {},
   "source": [
    "4. Get the first item, the middle item, and the last item of the list"
   ]
  },
  {
   "cell_type": "code",
   "execution_count": 127,
   "metadata": {},
   "outputs": [],
   "source": [
    "first_item = my_list[0]\n",
    "middle_item = my_list[len(my_list) // 2]\n",
    "last_item = my_list[-1]\n"
   ]
  },
  {
   "cell_type": "markdown",
   "metadata": {},
   "source": [
    "5. Declare a list called mixed_data_types, put your(name, age, height, marital status, address)"
   ]
  },
  {
   "cell_type": "code",
   "execution_count": 128,
   "metadata": {},
   "outputs": [],
   "source": [
    "mixed_data_types = ['Muhammad Nafiu', 16, 56.9, 'Single', '109 Amina Street']"
   ]
  },
  {
   "cell_type": "markdown",
   "metadata": {},
   "source": [
    "6. Declare a list variable named it_companies and assign initial values"
   ]
  },
  {
   "cell_type": "code",
   "execution_count": 129,
   "metadata": {},
   "outputs": [],
   "source": [
    "it_companies = ['Facebook', 'Google', 'Microsoft', 'Apple', 'IBM', 'Oracle', 'Amazon']"
   ]
  },
  {
   "cell_type": "markdown",
   "metadata": {},
   "source": [
    "7. Print the list using `print()`"
   ]
  },
  {
   "cell_type": "code",
   "execution_count": 130,
   "metadata": {},
   "outputs": [
    {
     "name": "stdout",
     "output_type": "stream",
     "text": [
      "['Facebook', 'Google', 'Microsoft', 'Apple', 'IBM', 'Oracle', 'Amazon']\n"
     ]
    }
   ],
   "source": [
    "print(it_companies)"
   ]
  },
  {
   "cell_type": "markdown",
   "metadata": {},
   "source": [
    "8. Print the number of companies in the list"
   ]
  },
  {
   "cell_type": "code",
   "execution_count": 131,
   "metadata": {},
   "outputs": [
    {
     "name": "stdout",
     "output_type": "stream",
     "text": [
      "12\n"
     ]
    }
   ],
   "source": [
    "print(len('it_companies'))"
   ]
  },
  {
   "cell_type": "markdown",
   "metadata": {},
   "source": [
    "9. Print the first, middle, and last company"
   ]
  },
  {
   "cell_type": "code",
   "execution_count": 132,
   "metadata": {},
   "outputs": [
    {
     "name": "stdout",
     "output_type": "stream",
     "text": [
      "Facebook Apple Amazon\n"
     ]
    }
   ],
   "source": [
    "first_company = it_companies[0]\n",
    "middle_company = it_companies[len(it_companies) // 2]\n",
    "last_company = it_companies[-1]\n",
    "print(first_company, middle_company, last_company)"
   ]
  },
  {
   "cell_type": "markdown",
   "metadata": {},
   "source": [
    "10. Print the list after modifying one of the companies"
   ]
  },
  {
   "cell_type": "code",
   "execution_count": 133,
   "metadata": {},
   "outputs": [
    {
     "name": "stdout",
     "output_type": "stream",
     "text": [
      "['Meta', 'Google', 'Microsoft', 'Apple', 'IBM', 'Oracle', 'Amazon']\n"
     ]
    }
   ],
   "source": [
    "it_companies[0] = 'Meta'\n",
    "print(it_companies)"
   ]
  },
  {
   "cell_type": "markdown",
   "metadata": {},
   "source": [
    "11. Add an IT company to it_companies"
   ]
  },
  {
   "cell_type": "code",
   "execution_count": 134,
   "metadata": {},
   "outputs": [],
   "source": [
    "it_companies.append('Tesla')"
   ]
  },
  {
   "cell_type": "markdown",
   "metadata": {},
   "source": [
    "12. Insert an IT company in the middle of the companies list"
   ]
  },
  {
   "cell_type": "code",
   "execution_count": 135,
   "metadata": {},
   "outputs": [],
   "source": [
    "it_companies.insert(len(it_companies) // 2, 'Spotify')"
   ]
  },
  {
   "cell_type": "markdown",
   "metadata": {},
   "source": [
    "13. Change one of the it_companies names to uppercase (IBM excluded!)"
   ]
  },
  {
   "cell_type": "code",
   "execution_count": 136,
   "metadata": {},
   "outputs": [
    {
     "name": "stdout",
     "output_type": "stream",
     "text": [
      "['Meta', 'Google', 'Microsoft', 'Apple', 'Spotify', 'Oracle', 'Amazon', 'Tesla']\n"
     ]
    }
   ],
   "source": [
    "it_companies.remove('IBM')\n",
    "print(it_companies)"
   ]
  },
  {
   "cell_type": "markdown",
   "metadata": {},
   "source": [
    "14. Join the it_companies with a string `#;&nbsp;`"
   ]
  },
  {
   "cell_type": "code",
   "execution_count": 137,
   "metadata": {},
   "outputs": [
    {
     "name": "stdout",
     "output_type": "stream",
     "text": [
      "Meta#;&nbsp; Google#;&nbsp; Microsoft#;&nbsp; Apple#;&nbsp; Spotify#;&nbsp; Oracle#;&nbsp; Amazon#;&nbsp; Tesla\n"
     ]
    }
   ],
   "source": [
    "joined_companies = '#;&nbsp; '.join(it_companies)\n",
    "print(joined_companies)"
   ]
  },
  {
   "cell_type": "markdown",
   "metadata": {},
   "source": [
    "15. Check if a certain company exists in the it_companies list"
   ]
  },
  {
   "cell_type": "code",
   "execution_count": 138,
   "metadata": {},
   "outputs": [
    {
     "name": "stdout",
     "output_type": "stream",
     "text": [
      "True\n"
     ]
    }
   ],
   "source": [
    "company_exists = 'Google' in it_companies\n",
    "print(company_exists)"
   ]
  },
  {
   "cell_type": "markdown",
   "metadata": {},
   "source": [
    "16. Sort the list using `sort()` method"
   ]
  },
  {
   "cell_type": "code",
   "execution_count": 139,
   "metadata": {},
   "outputs": [
    {
     "name": "stdout",
     "output_type": "stream",
     "text": [
      "['Amazon', 'Apple', 'Google', 'Meta', 'Microsoft', 'Oracle', 'Spotify', 'Tesla']\n"
     ]
    }
   ],
   "source": [
    "it_companies.sort()\n",
    "print(it_companies)"
   ]
  },
  {
   "cell_type": "markdown",
   "metadata": {},
   "source": [
    "17. Reverse the list in descending order using `reverse()` method"
   ]
  },
  {
   "cell_type": "code",
   "execution_count": 140,
   "metadata": {},
   "outputs": [
    {
     "name": "stdout",
     "output_type": "stream",
     "text": [
      "['Tesla', 'Spotify', 'Oracle', 'Microsoft', 'Meta', 'Google', 'Apple', 'Amazon']\n"
     ]
    }
   ],
   "source": [
    "it_companies.reverse()\n",
    "print(it_companies)"
   ]
  },
  {
   "cell_type": "markdown",
   "metadata": {},
   "source": [
    "18. Slice out the first 3 companies from the list"
   ]
  },
  {
   "cell_type": "code",
   "execution_count": 141,
   "metadata": {},
   "outputs": [
    {
     "name": "stdout",
     "output_type": "stream",
     "text": [
      "['Tesla', 'Spotify', 'Oracle']\n"
     ]
    }
   ],
   "source": [
    "first_three_companies = it_companies[:3]\n",
    "print(first_three_companies)"
   ]
  },
  {
   "cell_type": "markdown",
   "metadata": {},
   "source": [
    "19. Slice out the last 3 companies from the list"
   ]
  },
  {
   "cell_type": "code",
   "execution_count": 142,
   "metadata": {},
   "outputs": [
    {
     "name": "stdout",
     "output_type": "stream",
     "text": [
      "['Google', 'Apple', 'Amazon']\n"
     ]
    }
   ],
   "source": [
    "last_three_companies = it_companies[-3:]\n",
    "print(last_three_companies)"
   ]
  },
  {
   "cell_type": "markdown",
   "metadata": {},
   "source": [
    "20. Slice out the middle IT company or companies from the list"
   ]
  },
  {
   "cell_type": "code",
   "execution_count": 143,
   "metadata": {},
   "outputs": [
    {
     "name": "stdout",
     "output_type": "stream",
     "text": [
      "['Microsoft']\n"
     ]
    }
   ],
   "source": [
    "middle_companies = it_companies[3:-4]\n",
    "print(middle_companies)"
   ]
  },
  {
   "cell_type": "markdown",
   "metadata": {},
   "source": [
    "21. Remove the first IT company from the list"
   ]
  },
  {
   "cell_type": "code",
   "execution_count": 144,
   "metadata": {},
   "outputs": [
    {
     "data": {
      "text/plain": [
       "'Tesla'"
      ]
     },
     "execution_count": 144,
     "metadata": {},
     "output_type": "execute_result"
    }
   ],
   "source": [
    "it_companies.pop(0)"
   ]
  },
  {
   "cell_type": "markdown",
   "metadata": {},
   "source": [
    "22. Remove the middle IT company or companies from the list"
   ]
  },
  {
   "cell_type": "code",
   "execution_count": 145,
   "metadata": {},
   "outputs": [
    {
     "data": {
      "text/plain": [
       "'Amazon'"
      ]
     },
     "execution_count": 145,
     "metadata": {},
     "output_type": "execute_result"
    }
   ],
   "source": [
    "middle_index = len('it_companies') // 2\n",
    "it_companies.pop(middle_index)"
   ]
  },
  {
   "cell_type": "markdown",
   "metadata": {},
   "source": [
    "23. Remove the last IT company from the list"
   ]
  },
  {
   "cell_type": "code",
   "execution_count": 146,
   "metadata": {},
   "outputs": [
    {
     "data": {
      "text/plain": [
       "'Apple'"
      ]
     },
     "execution_count": 146,
     "metadata": {},
     "output_type": "execute_result"
    }
   ],
   "source": [
    "it_companies.pop(-1)"
   ]
  },
  {
   "cell_type": "markdown",
   "metadata": {},
   "source": [
    "24. Remove all IT companies from the list"
   ]
  },
  {
   "cell_type": "code",
   "execution_count": 147,
   "metadata": {},
   "outputs": [],
   "source": [
    "it_companies.clear()"
   ]
  },
  {
   "cell_type": "markdown",
   "metadata": {},
   "source": [
    "25. Destroy the IT companies list"
   ]
  },
  {
   "cell_type": "code",
   "execution_count": 148,
   "metadata": {},
   "outputs": [],
   "source": [
    "del it_companies"
   ]
  },
  {
   "cell_type": "markdown",
   "metadata": {},
   "source": [
    "26. Join the following lists:"
   ]
  },
  {
   "cell_type": "code",
   "execution_count": 149,
   "metadata": {},
   "outputs": [
    {
     "name": "stdout",
     "output_type": "stream",
     "text": [
      "['HTML', 'CSS', 'JS', 'React', 'Redux', 'Node', 'Express', 'MongoDB']\n"
     ]
    }
   ],
   "source": [
    "front_end = ['HTML', 'CSS', 'JS', 'React', 'Redux']\n",
    "back_end = ['Node', 'Express', 'MongoDB']\n",
    "full_stack = front_end + back_end\n",
    "print(full_stack)"
   ]
  },
  {
   "cell_type": "markdown",
   "metadata": {},
   "source": [
    "27. After joining the lists in question 26. Copy the joined list and assign it to a variable `full_stack`, then insert Python and SQL after Redux."
   ]
  },
  {
   "cell_type": "code",
   "execution_count": 150,
   "metadata": {},
   "outputs": [
    {
     "name": "stdout",
     "output_type": "stream",
     "text": [
      "['HTML', 'CSS', 'JS', 'React', 'Redux', 'Python', 'SQL', 'Node', 'Express', 'MongoDB']\n"
     ]
    }
   ],
   "source": [
    "full_stack = front_end + back_end\n",
    "full_stack.insert(full_stack.index('Redux') + 1, 'Python')\n",
    "full_stack.insert(full_stack.index('Python') + 1, 'SQL')\n",
    "print(full_stack)"
   ]
  },
  {
   "cell_type": "markdown",
   "metadata": {},
   "source": [
    "### Exercises: Level 2\n",
    "\n",
    "1. The following is a list of 10 students ages:\n",
    "\n",
    "```sh\n",
    "ages = [19, 22, 19, 24, 20, 25, 26, 24, 25, 24]\n",
    "```\n",
    "\n",
    "- Sort the list and find the min and max age\n",
    "- Add the min age and the max age again to the list\n",
    "- Find the median age (one middle item or two middle items divided by two)\n",
    "- Find the average age (sum of all items divided by their number )\n",
    "- Find the range of the ages (max minus min)\n",
    "- Compare the value of (min - average) and (max - average), use _abs()_ method\n",
    "\n",
    "2. Find the middle country(ies) in the [countries list](https://github.com/Asabeneh/30-Days-Of-Python/tree/master/data/countries.py)\n",
    "3. Divide the countries list into two equal lists if it is even if not one more country for the first half.\n",
    "4. ['China', 'Russia', 'USA', 'Finland', 'Sweden', 'Norway', 'Denmark']. Unpack the first three countries and the rest as scandic countries."
   ]
  },
  {
   "cell_type": "markdown",
   "metadata": {},
   "source": [
    "### Exercises: Level 2"
   ]
  },
  {
   "cell_type": "markdown",
   "metadata": {},
   "source": [
    "1. The following is a list of 10 students ages:\n",
    "\n"
   ]
  },
  {
   "cell_type": "code",
   "execution_count": 151,
   "metadata": {},
   "outputs": [],
   "source": [
    "ages = [19, 22, 19, 24, 20, 25, 26, 24, 25, 24]\n"
   ]
  },
  {
   "cell_type": "markdown",
   "metadata": {},
   "source": [
    "### Step 1: Sort the list and find the min and max age"
   ]
  },
  {
   "cell_type": "code",
   "execution_count": 152,
   "metadata": {},
   "outputs": [],
   "source": [
    "ages.sort()\n",
    "min_age = min(ages)\n",
    "max_age = max(ages)"
   ]
  },
  {
   "cell_type": "code",
   "execution_count": 153,
   "metadata": {},
   "outputs": [
    {
     "name": "stdout",
     "output_type": "stream",
     "text": [
      "Sorted ages: [19, 19, 20, 22, 24, 24, 24, 25, 25, 26]\n",
      "Min age: 19\n",
      "Max age: 26\n"
     ]
    }
   ],
   "source": [
    "print(\"Sorted ages:\", ages)\n",
    "print(\"Min age:\", min_age)\n",
    "print(\"Max age:\", max_age)\n"
   ]
  },
  {
   "cell_type": "markdown",
   "metadata": {},
   "source": [
    "### Step 2: Add the min and max age again to the list"
   ]
  },
  {
   "cell_type": "code",
   "execution_count": 154,
   "metadata": {},
   "outputs": [
    {
     "name": "stdout",
     "output_type": "stream",
     "text": [
      "Updated ages list: [19, 19, 20, 22, 24, 24, 24, 25, 25, 26, 19, 26]\n"
     ]
    }
   ],
   "source": [
    "ages.append(min_age)\n",
    "ages.append(max_age)\n",
    "print(\"Updated ages list:\", ages)"
   ]
  },
  {
   "cell_type": "markdown",
   "metadata": {},
   "source": [
    "### Step 3: Find the median age"
   ]
  },
  {
   "cell_type": "code",
   "execution_count": 155,
   "metadata": {},
   "outputs": [
    {
     "name": "stdout",
     "output_type": "stream",
     "text": [
      "Median age: 24.0\n"
     ]
    }
   ],
   "source": [
    "ages.sort()  # Re-sort the list after appending\n",
    "n = len(ages)\n",
    "if n % 2 == 0:\n",
    "    median_age = (ages[n // 2 - 1] + ages[n // 2]) / 2\n",
    "else:\n",
    "    median_age = ages[n // 2]\n",
    "print(\"Median age:\", median_age)"
   ]
  },
  {
   "cell_type": "markdown",
   "metadata": {},
   "source": [
    "### Step 4: Find the average age"
   ]
  },
  {
   "cell_type": "code",
   "execution_count": 156,
   "metadata": {},
   "outputs": [
    {
     "name": "stdout",
     "output_type": "stream",
     "text": [
      "Average age: 22.75\n"
     ]
    }
   ],
   "source": [
    "average_age = sum(ages) / len(ages)\n",
    "print(\"Average age:\", average_age)"
   ]
  },
  {
   "cell_type": "markdown",
   "metadata": {},
   "source": [
    "### Step 5: Find the range of the ages"
   ]
  },
  {
   "cell_type": "code",
   "execution_count": 157,
   "metadata": {},
   "outputs": [
    {
     "name": "stdout",
     "output_type": "stream",
     "text": [
      "Age range: 7\n"
     ]
    }
   ],
   "source": [
    "age_range = max_age - min_age\n",
    "print(\"Age range:\", age_range)"
   ]
  },
  {
   "cell_type": "markdown",
   "metadata": {},
   "source": [
    "### Step 6: Compare abs(min - average) and abs(max - average)"
   ]
  },
  {
   "cell_type": "code",
   "execution_count": 158,
   "metadata": {},
   "outputs": [
    {
     "name": "stdout",
     "output_type": "stream",
     "text": [
      "Difference between min and average: 3.75\n",
      "Difference between max and average: 3.25\n"
     ]
    }
   ],
   "source": [
    "min_diff = abs(min_age - average_age)\n",
    "max_diff = abs(max_age - average_age)\n",
    "print(\"Difference between min and average:\", min_diff)\n",
    "print(\"Difference between max and average:\", max_diff)"
   ]
  },
  {
   "cell_type": "markdown",
   "metadata": {},
   "source": [
    "### Step 7: Find the middle country(ies) in the countries list"
   ]
  },
  {
   "cell_type": "code",
   "execution_count": 159,
   "metadata": {},
   "outputs": [
    {
     "name": "stdout",
     "output_type": "stream",
     "text": [
      "Middle country(ies): ['Lesotho']\n"
     ]
    }
   ],
   "source": [
    "countries = [\n",
    "    'Afghanistan', 'Albania', 'Algeria', 'Andorra', 'Angola', 'Antigua and Barbuda', 'Argentina',\n",
    "    'Armenia', 'Australia', 'Austria', 'Azerbaijan', 'Bahamas', 'Bahrain', 'Bangladesh', 'Barbados',\n",
    "    'Belarus', 'Belgium', 'Belize', 'Benin', 'Bhutan', 'Bolivia', 'Bosnia and Herzegovina', 'Botswana',\n",
    "    'Brazil', 'Brunei', 'Bulgaria', 'Burkina Faso', 'Burundi', 'Cambodia', 'Cameroon', 'Canada', \n",
    "    'Cape Verde', 'Central African Republic', 'Chad', 'Chile', 'China', 'Colombi', 'Comoros',\n",
    "    'Congo (Brazzaville)', 'Congo', 'Costa Rica', \"Cote d'Ivoire\", 'Croatia', 'Cuba', 'Cyprus',\n",
    "    'Czech Republic', 'Denmark', 'Djibouti', 'Dominica', 'Dominican Republic', 'East Timor (Timor Timur)',\n",
    "    'Ecuador', 'Egypt', 'El Salvador', 'Equatorial Guinea', 'Eritrea', 'Estonia', 'Ethiopia', 'Fiji',\n",
    "    'Finland', 'France', 'Gabon', 'Gambia, The', 'Georgia', 'Germany', 'Ghana', 'Greece', 'Grenada',\n",
    "    'Guatemala', 'Guinea', 'Guinea-Bissau', 'Guyana', 'Haiti', 'Honduras', 'Hungary', 'Iceland',\n",
    "    'India', 'Indonesia', 'Iran', 'Iraq', 'Ireland', 'Israel', 'Italy', 'Jamaica', 'Japan', 'Jordan',\n",
    "    'Kazakhstan', 'Kenya', 'Kiribati', 'Korea, North', 'Korea, South', 'Kuwait', 'Kyrgyzstan', 'Laos',\n",
    "    'Latvia', 'Lebanon', 'Lesotho', 'Liberia', 'Libya', 'Liechtenstein', 'Lithuania', 'Luxembourg',\n",
    "    'Macedonia', 'Madagascar', 'Malawi', 'Malaysia', 'Maldives', 'Mali', 'Malta', 'Marshall Islands',\n",
    "    'Mauritania', 'Mauritius', 'Mexico', 'Micronesia', 'Moldova', 'Monaco', 'Mongolia', 'Morocco',\n",
    "    'Mozambique', 'Myanmar', 'Namibia', 'Nauru', 'Nepal', 'Netherlands', 'New Zealand', 'Nicaragua',\n",
    "    'Niger', 'Nigeria', 'Norway', 'Oman', 'Pakistan', 'Palau', 'Panama', 'Papua New Guinea', 'Paraguay',\n",
    "    'Peru', 'Philippines', 'Poland', 'Portugal', 'Qatar', 'Romania', 'Russia', 'Rwanda', 'Saint Kitts and Nevis',\n",
    "    'Saint Lucia', 'Saint Vincent', 'Samoa', 'San Marino', 'Sao Tome and Principe', 'Saudi Arabia', 'Senegal',\n",
    "    'Serbia and Montenegro', 'Seychelles', 'Sierra Leone', 'Singapore', 'Slovakia', 'Slovenia', 'Solomon Islands',\n",
    "    'Somalia', 'South Africa', 'Spain', 'Sri Lanka', 'Sudan', 'Suriname', 'Swaziland', 'Sweden', 'Switzerland',\n",
    "    'Syria', 'Taiwan', 'Tajikistan', 'Tanzania', 'Thailand', 'Togo', 'Tonga', 'Trinidad and Tobago', 'Tunisia',\n",
    "    'Turkey', 'Turkmenistan', 'Tuvalu', 'Uganda', 'Ukraine', 'United Arab Emirates', 'United Kingdom', 'United States',\n",
    "    'Uruguay', 'Uzbekistan', 'Vanuatu', 'Vatican City', 'Venezuela', 'Vietnam', 'Yemen', 'Zambia', 'Zimbabwe',\n",
    "]\n",
    "countries.sort()\n",
    "n_countries = len(countries)\n",
    "middle = n_countries // 2\n",
    "if n_countries % 2 == 0:\n",
    "    middle_countries = countries[middle - 1:middle + 1]\n",
    "else:\n",
    "    middle_countries = [countries[middle]]\n",
    "print(\"Middle country(ies):\", middle_countries)"
   ]
  },
  {
   "cell_type": "markdown",
   "metadata": {},
   "source": [
    "### Step 8: Divide countries into two equal lists"
   ]
  },
  {
   "cell_type": "code",
   "execution_count": 160,
   "metadata": {},
   "outputs": [
    {
     "name": "stdout",
     "output_type": "stream",
     "text": [
      "First half: ['Afghanistan', 'Albania', 'Algeria', 'Andorra', 'Angola', 'Antigua and Barbuda', 'Argentina', 'Armenia', 'Australia', 'Austria', 'Azerbaijan', 'Bahamas', 'Bahrain', 'Bangladesh', 'Barbados', 'Belarus', 'Belgium', 'Belize', 'Benin', 'Bhutan', 'Bolivia', 'Bosnia and Herzegovina', 'Botswana', 'Brazil', 'Brunei', 'Bulgaria', 'Burkina Faso', 'Burundi', 'Cambodia', 'Cameroon', 'Canada', 'Cape Verde', 'Central African Republic', 'Chad', 'Chile', 'China', 'Colombi', 'Comoros', 'Congo', 'Congo (Brazzaville)', 'Costa Rica', \"Cote d'Ivoire\", 'Croatia', 'Cuba', 'Cyprus', 'Czech Republic', 'Denmark', 'Djibouti', 'Dominica', 'Dominican Republic', 'East Timor (Timor Timur)', 'Ecuador', 'Egypt', 'El Salvador', 'Equatorial Guinea', 'Eritrea', 'Estonia', 'Ethiopia', 'Fiji', 'Finland', 'France', 'Gabon', 'Gambia, The', 'Georgia', 'Germany', 'Ghana', 'Greece', 'Grenada', 'Guatemala', 'Guinea', 'Guinea-Bissau', 'Guyana', 'Haiti', 'Honduras', 'Hungary', 'Iceland', 'India', 'Indonesia', 'Iran', 'Iraq', 'Ireland', 'Israel', 'Italy', 'Jamaica', 'Japan', 'Jordan', 'Kazakhstan', 'Kenya', 'Kiribati', 'Korea, North', 'Korea, South', 'Kuwait', 'Kyrgyzstan', 'Laos', 'Latvia', 'Lebanon']\n",
      "Second half: ['Lesotho', 'Liberia', 'Libya', 'Liechtenstein', 'Lithuania', 'Luxembourg', 'Macedonia', 'Madagascar', 'Malawi', 'Malaysia', 'Maldives', 'Mali', 'Malta', 'Marshall Islands', 'Mauritania', 'Mauritius', 'Mexico', 'Micronesia', 'Moldova', 'Monaco', 'Mongolia', 'Morocco', 'Mozambique', 'Myanmar', 'Namibia', 'Nauru', 'Nepal', 'Netherlands', 'New Zealand', 'Nicaragua', 'Niger', 'Nigeria', 'Norway', 'Oman', 'Pakistan', 'Palau', 'Panama', 'Papua New Guinea', 'Paraguay', 'Peru', 'Philippines', 'Poland', 'Portugal', 'Qatar', 'Romania', 'Russia', 'Rwanda', 'Saint Kitts and Nevis', 'Saint Lucia', 'Saint Vincent', 'Samoa', 'San Marino', 'Sao Tome and Principe', 'Saudi Arabia', 'Senegal', 'Serbia and Montenegro', 'Seychelles', 'Sierra Leone', 'Singapore', 'Slovakia', 'Slovenia', 'Solomon Islands', 'Somalia', 'South Africa', 'Spain', 'Sri Lanka', 'Sudan', 'Suriname', 'Swaziland', 'Sweden', 'Switzerland', 'Syria', 'Taiwan', 'Tajikistan', 'Tanzania', 'Thailand', 'Togo', 'Tonga', 'Trinidad and Tobago', 'Tunisia', 'Turkey', 'Turkmenistan', 'Tuvalu', 'Uganda', 'Ukraine', 'United Arab Emirates', 'United Kingdom', 'United States', 'Uruguay', 'Uzbekistan', 'Vanuatu', 'Vatican City', 'Venezuela', 'Vietnam', 'Yemen', 'Zambia', 'Zimbabwe']\n"
     ]
    }
   ],
   "source": [
    "first_half = countries[:middle]\n",
    "second_half = countries[middle:]\n",
    "print(\"First half:\", first_half)\n",
    "print(\"Second half:\", second_half)"
   ]
  },
  {
   "cell_type": "markdown",
   "metadata": {},
   "source": [
    "### Step 9: Unpack first three countries and the rest as Scandic countries"
   ]
  },
  {
   "cell_type": "code",
   "execution_count": 161,
   "metadata": {},
   "outputs": [
    {
     "name": "stdout",
     "output_type": "stream",
     "text": [
      "First country: China\n",
      "Second country: Russia\n",
      "Third country: USA\n",
      "Scandic countries: ['Finland', 'Sweden', 'Norway', 'Denmark']\n"
     ]
    }
   ],
   "source": [
    "specific_countries = ['China', 'Russia', 'USA', 'Finland', 'Sweden', 'Norway', 'Denmark']\n",
    "first, second, third, *scandic_countries = specific_countries\n",
    "print(\"First country:\", first)\n",
    "print(\"Second country:\", second)\n",
    "print(\"Third country:\", third)\n",
    "print(\"Scandic countries:\", scandic_countries)"
   ]
  },
  {
   "cell_type": "markdown",
   "metadata": {},
   "source": [
    "## 💻 Tuple Exercises"
   ]
  },
  {
   "cell_type": "markdown",
   "metadata": {},
   "source": [
    "### Tuple Exercises: Level 1\n",
    "\n",
    "1. Create an empty tuple\n",
    "2. Create a tuple containing names of your sisters and your brothers (imaginary siblings are fine)\n",
    "3. Join brothers and sisters tuples and assign it to siblings\n",
    "4. How many siblings do you have?\n",
    "5. Modify the siblings tuple and add the name of your father and mother and assign it to family_members\n",
    "\n",
    "### Tuple Exercises: Level 2\n",
    "\n",
    "1. Unpack siblings and parents from family_members\n",
    "1. Create fruits, vegetables and animal products tuples. Join the three tuples and assign it to a variable called food_stuff_tp.\n",
    "1. Change the about food_stuff_tp  tuple to a food_stuff_lt list\n",
    "1. Slice out the middle item or items from the food_stuff_tp tuple or food_stuff_lt list.\n",
    "1. Slice out the first three items and the last three items from food_staff_lt list\n",
    "1. Delete the food_staff_tp tuple completely\n",
    "1. Check if an item exists in  tuple:\n",
    "\n",
    "- Check if 'Estonia' is a nordic country\n",
    "- Check if 'Iceland' is a nordic country\n",
    "\n",
    "  ```py\n",
    "  nordic_countries = ('Denmark', 'Finland','Iceland', 'Norway', 'Sweden')\n",
    "  ```"
   ]
  },
  {
   "cell_type": "markdown",
   "metadata": {},
   "source": [
    "##### Answers"
   ]
  },
  {
   "cell_type": "code",
   "execution_count": 162,
   "metadata": {},
   "outputs": [
    {
     "name": "stdout",
     "output_type": "stream",
     "text": [
      "Empty tuple: ()\n",
      "Sisters: ('Aisha', 'Asiya')\n",
      "Brothers: ('Hassan', 'Hussain')\n",
      "Siblings: ('Aisha', 'Asiya', 'Hassan', 'Hussain')\n",
      "Number of siblings: 4\n",
      "Family members: ('Aisha', 'Asiya', 'Hassan', 'Hussain', 'Father', 'Mother')\n"
     ]
    }
   ],
   "source": [
    "# Tuple Exercises: Level 1\n",
    "\n",
    "# 1. Create an empty tuple\n",
    "empty_tuple = ()\n",
    "print(\"Empty tuple:\", empty_tuple)\n",
    "\n",
    "# 2. Create a tuple containing names of your sisters and your brothers\n",
    "sisters = (\"Aisha\", \"Asiya\")\n",
    "brothers = (\"Hassan\", \"Hussain\")\n",
    "print(\"Sisters:\", sisters)\n",
    "print(\"Brothers:\", brothers)\n",
    "\n",
    "# 3. Join brothers and sisters tuples and assign it to siblings\n",
    "siblings = sisters + brothers\n",
    "print(\"Siblings:\", siblings)\n",
    "\n",
    "# 4. How many siblings do you have?\n",
    "sibling_count = len(siblings)\n",
    "print(\"Number of siblings:\", sibling_count)\n",
    "\n",
    "# 5. Modify the siblings tuple and add the name of your father and mother and assign it to family_members\n",
    "family_members = siblings + (\"Father\", \"Mother\")\n",
    "print(\"Family members:\", family_members)"
   ]
  },
  {
   "cell_type": "code",
   "execution_count": 163,
   "metadata": {},
   "outputs": [
    {
     "name": "stdout",
     "output_type": "stream",
     "text": [
      "Siblings: ['Aisha', 'Asiya', 'Hassan', 'Hussain']\n",
      "Father: Father\n",
      "Mother: Mother\n",
      "Food stuff tuple: ('Apple', 'Banana', 'Cherry', 'Carrot', 'Cucumber', 'Spinach', 'Milk', 'Eggs', 'Cheese')\n",
      "Food stuff list: ['Apple', 'Banana', 'Cherry', 'Carrot', 'Cucumber', 'Spinach', 'Milk', 'Eggs', 'Cheese']\n",
      "Middle item(s): ['Cucumber']\n",
      "First three items: ['Apple', 'Banana', 'Cherry']\n",
      "Last three items: ['Milk', 'Eggs', 'Cheese']\n",
      "Is 'Estonia' a Nordic country? False\n",
      "Is 'Iceland' a Nordic country? True\n"
     ]
    }
   ],
   "source": [
    "# Tuple Exercises: Level 2\n",
    "\n",
    "# 1. Unpack siblings and parents from family_members\n",
    "*siblings, father, mother = family_members\n",
    "print(\"Siblings:\", siblings)\n",
    "print(\"Father:\", father)\n",
    "print(\"Mother:\", mother)\n",
    "\n",
    "# 2. Create fruits, vegetables and animal products tuples\n",
    "fruits = (\"Apple\", \"Banana\", \"Cherry\")\n",
    "vegetables = (\"Carrot\", \"Cucumber\", \"Spinach\")\n",
    "animal_products = (\"Milk\", \"Eggs\", \"Cheese\")\n",
    "\n",
    "# Join the three tuples and assign it to a variable called food_stuff_tp\n",
    "food_stuff_tp = fruits + vegetables + animal_products\n",
    "print(\"Food stuff tuple:\", food_stuff_tp)\n",
    "\n",
    "# 3. Change the food_stuff_tp tuple to a food_stuff_lt list\n",
    "food_stuff_lt = list(food_stuff_tp)\n",
    "print(\"Food stuff list:\", food_stuff_lt)\n",
    "\n",
    "# 4. Slice out the middle item or items from the food_stuff_tp tuple or food_stuff_lt list\n",
    "n_food = len(food_stuff_lt)\n",
    "if n_food % 2 == 0:\n",
    "    middle_items = food_stuff_lt[n_food // 2 - 1:n_food // 2 + 1]\n",
    "else:\n",
    "    middle_items = [food_stuff_lt[n_food // 2]]\n",
    "print(\"Middle item(s):\", middle_items)\n",
    "\n",
    "# 5. Slice out the first three items and the last three items from food_stuff_lt list\n",
    "first_three = food_stuff_lt[:3]\n",
    "last_three = food_stuff_lt[-3:]\n",
    "print(\"First three items:\", first_three)\n",
    "print(\"Last three items:\", last_three)\n",
    "\n",
    "# 6. Delete the food_stuff_tp tuple completely\n",
    "del food_stuff_tp\n",
    "\n",
    "# 7. Check if an item exists in tuple\n",
    "nordic_countries = (\"Denmark\", \"Finland\", \"Iceland\", \"Norway\", \"Sweden\")\n",
    "print(\"Is 'Estonia' a Nordic country?\", \"Estonia\" in nordic_countries)\n",
    "print(\"Is 'Iceland' a Nordic country?\", \"Iceland\" in nordic_countries)"
   ]
  },
  {
   "cell_type": "markdown",
   "metadata": {},
   "source": [
    "## 💻 Sets Exercises"
   ]
  },
  {
   "cell_type": "markdown",
   "metadata": {},
   "source": [
    "# sets\n",
    "it_companies = {'Facebook', 'Google', 'Microsoft', 'Apple', 'IBM', 'Oracle', 'Amazon'}\n",
    "A = {19, 22, 24, 20, 25, 26}\n",
    "B = {19, 22, 20, 25, 26, 24, 28, 27}\n",
    "age = [22, 19, 24, 25, 26, 24, 25, 24]\n",
    "```\n",
    "\n",
    "### Sets Exercises: Level 1\n",
    "\n",
    "1. Find the length of the set it_companies\n",
    "2. Add 'Twitter' to it_companies\n",
    "3. Insert multiple IT companies at once to the set it_companies\n",
    "4. Remove one of the companies from the set it_companies\n",
    "5. What is the difference between remove and discard\n",
    "\n",
    "### Sets Exercises: Level 2\n",
    "\n",
    "1. Join A and B\n",
    "1. Find A intersection B\n",
    "1. Is A subset of B\n",
    "1. Are A and B disjoint sets\n",
    "1. Join A with B and B with A\n",
    "1. What is the symmetric difference between A and B\n",
    "1. Delete the sets completely\n",
    "\n",
    "### Sets Exercises: Level 3\n",
    "\n",
    "1. Convert the ages to a set and compare the length of the list and the set, which one is bigger?\n",
    "1. Explain the difference between the following data types: string, list, tuple and set\n",
    "2. _I am a teacher and I love to inspire and teach people._ How many unique words have been used in the sentence? Use the split methods and set to get the unique words."
   ]
  },
  {
   "cell_type": "markdown",
   "metadata": {},
   "source": [
    "#### Answers"
   ]
  },
  {
   "cell_type": "code",
   "execution_count": 172,
   "metadata": {},
   "outputs": [],
   "source": [
    "# sets\n",
    "it_companies = {'Facebook', 'Google', 'Microsoft', 'Apple', 'IBM', 'Oracle', 'Amazon'}\n",
    "A = {19, 22, 24, 20, 25, 26}\n",
    "B = {19, 22, 20, 25, 26, 24, 28, 27}\n",
    "age = [22, 19, 24, 25, 26, 24, 25, 24]"
   ]
  },
  {
   "cell_type": "code",
   "execution_count": 173,
   "metadata": {},
   "outputs": [
    {
     "name": "stdout",
     "output_type": "stream",
     "text": [
      "Length of it_companies: 7\n",
      "it_companies after adding 'Twitter': {'Amazon', 'Microsoft', 'IBM', 'Oracle', 'Apple', 'Twitter', 'Google', 'Facebook'}\n",
      "it_companies after adding multiple companies: {'Apple', 'Facebook', 'Amazon', 'IBM', 'Tesla', 'Adobe', 'Oracle', 'Google', 'Microsoft', 'Netflix', 'Twitter'}\n",
      "it_companies after removing 'Google': {'Apple', 'Facebook', 'Amazon', 'IBM', 'Tesla', 'Adobe', 'Oracle', 'Microsoft', 'Netflix', 'Twitter'}\n"
     ]
    }
   ],
   "source": [
    "### Sets Exercises: Level 1\n",
    "\n",
    "# 1. Find the length of the set it_companies\n",
    "print(\"Length of it_companies:\", len(it_companies))\n",
    "\n",
    "# 2. Add 'Twitter' to it_companies\n",
    "it_companies.add('Twitter')\n",
    "print(\"it_companies after adding 'Twitter':\", it_companies)\n",
    "\n",
    "# 3. Insert multiple IT companies at once to the set it_companies\n",
    "it_companies.update(['Tesla', 'Adobe', 'Netflix'])\n",
    "print(\"it_companies after adding multiple companies:\", it_companies)\n",
    "\n",
    "# 4. Remove one of the companies from the set it_companies\n",
    "it_companies.remove('Google')  # This will raise a KeyError if the item does not exist\n",
    "print(\"it_companies after removing 'Google':\", it_companies)\n",
    "\n",
    "# 5. What is the difference between remove and discard\n",
    "# remove() raises an error if the item is not found, while discard() does not.\n",
    "it_companies.discard('NonExistentCompany')  # No error"
   ]
  },
  {
   "cell_type": "code",
   "execution_count": 174,
   "metadata": {},
   "outputs": [
    {
     "name": "stdout",
     "output_type": "stream",
     "text": [
      "Joined sets A and B: {19, 20, 22, 24, 25, 26, 27, 28}\n",
      "Intersection of A and B: {19, 20, 22, 24, 25, 26}\n",
      "Is A a subset of B?: True\n",
      "Are A and B disjoint?: False\n",
      "A joined with B: {19, 20, 22, 24, 25, 26, 27, 28}\n",
      "B joined with A: {19, 20, 22, 24, 25, 26, 27, 28}\n",
      "Symmetric difference between A and B: {27, 28}\n"
     ]
    }
   ],
   "source": [
    "### Sets Exercises: Level 2\n",
    "\n",
    "# 1. Join A and B\n",
    "joined_sets = A.union(B)\n",
    "print(\"Joined sets A and B:\", joined_sets)\n",
    "\n",
    "# 2. Find A intersection B\n",
    "intersection = A.intersection(B)\n",
    "print(\"Intersection of A and B:\", intersection)\n",
    "\n",
    "# 3. Is A subset of B\n",
    "is_subset = A.issubset(B)\n",
    "print(\"Is A a subset of B?:\", is_subset)\n",
    "\n",
    "# 4. Are A and B disjoint sets\n",
    "are_disjoint = A.isdisjoint(B)\n",
    "print(\"Are A and B disjoint?:\", are_disjoint)\n",
    "\n",
    "# 5. Join A with B and B with A\n",
    "A_with_B = A.union(B)\n",
    "B_with_A = B.union(A)\n",
    "print(\"A joined with B:\", A_with_B)\n",
    "print(\"B joined with A:\", B_with_A)\n",
    "\n",
    "# 6. What is the symmetric difference between A and B\n",
    "symmetric_difference = A.symmetric_difference(B)\n",
    "print(\"Symmetric difference between A and B:\", symmetric_difference)\n",
    "\n",
    "# 7. Delete the sets completely\n",
    "del A\n",
    "del B\n",
    "del it_companies\n"
   ]
  },
  {
   "cell_type": "code",
   "execution_count": 175,
   "metadata": {},
   "outputs": [
    {
     "name": "stdout",
     "output_type": "stream",
     "text": [
      "Length of age list: 8\n",
      "Length of age set: 5\n",
      "Is the list bigger than the set?: True\n",
      "Number of unique words in the sentence: 10\n"
     ]
    }
   ],
   "source": [
    "### Sets Exercises: Level 3\n",
    "\n",
    "# 1. Convert the ages to a set and compare the length of the list and the set, which one is bigger?\n",
    "age_set = set(age)\n",
    "print(\"Length of age list:\", len(age))\n",
    "print(\"Length of age set:\", len(age_set))\n",
    "print(\"Is the list bigger than the set?:\", len(age) > len(age_set))\n",
    "\n",
    "# 2. Explain the difference between the following data types: string, list, tuple, and set\n",
    "# - String: Immutable sequence of characters used to store text.\n",
    "# - List: Ordered and mutable collection of items, allows duplicates.\n",
    "# - Tuple: Ordered and immutable collection of items, allows duplicates.\n",
    "# - Set: Unordered and mutable collection of unique items, does not allow duplicates.\n",
    "\n",
    "# 3. How many unique words have been used in the sentence?\n",
    "sentence = \"I am a teacher and I love to inspire and teach people.\"\n",
    "words = sentence.split()\n",
    "unique_words = set(words)\n",
    "print(\"Number of unique words in the sentence:\", len(unique_words))\n"
   ]
  }
 ],
 "metadata": {
  "kernelspec": {
   "display_name": "Python 3",
   "language": "python",
   "name": "python3"
  },
  "language_info": {
   "codemirror_mode": {
    "name": "ipython",
    "version": 3
   },
   "file_extension": ".py",
   "mimetype": "text/x-python",
   "name": "python",
   "nbconvert_exporter": "python",
   "pygments_lexer": "ipython3",
   "version": "3.12.2"
  }
 },
 "nbformat": 4,
 "nbformat_minor": 2
}
