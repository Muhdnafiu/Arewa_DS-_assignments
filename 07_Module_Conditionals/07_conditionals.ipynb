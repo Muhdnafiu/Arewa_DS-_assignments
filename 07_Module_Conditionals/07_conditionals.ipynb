{
 "cells": [
  {
   "cell_type": "markdown",
   "metadata": {},
   "source": [
    "## 💻  Conditionals Exercises"
   ]
  },
  {
   "cell_type": "markdown",
   "metadata": {},
   "source": [
    "### Exercises: Level 1"
   ]
  },
  {
   "cell_type": "markdown",
   "metadata": {},
   "source": [
    "1. Get user input using input(“Enter your age: ”). If user is 18 or older, give feedback: You are old enough to drive. If below 18 give feedback to wait for the missing amount of years. Output:\n",
    "\n",
    "    ```sh\n",
    "    Enter your age: 30\n",
    "    You are old enough to learn to drive.\n",
    "    Output:\n",
    "    Enter your age: 15\n",
    "    You need 3 more years to learn to drive.\n",
    "    ```\n",
    "\n",
    "2. Compare the values of my_age and your_age using if … else. Who is older (me or you)? Use input(“Enter your age: ”) to get the age as input. You can use a nested condition to print 'year' for 1 year difference in age, 'years' for bigger differences, and a custom text if my_age = your_age. Output:\n",
    "\n",
    "    ```sh\n",
    "    Enter your age: 30\n",
    "    You are 5 years older than me.\n",
    "    ```\n",
    "\n",
    "3. Get two numbers from the user using input prompt. If a is greater than b return a is greater than b, if a is less b return a is smaller than b, else a is equal to b. Output:\n",
    "\n",
    "```sh\n",
    "Enter number one: 4\n",
    "Enter number two: 3\n",
    "4 is greater than 3\n",
    "```"
   ]
  },
  {
   "cell_type": "code",
   "execution_count": 7,
   "metadata": {},
   "outputs": [
    {
     "name": "stdout",
     "output_type": "stream",
     "text": [
      "You are old enough to learn to drive.\n",
      "I am 3 years older than you.\n",
      "4 is greater than 3\n"
     ]
    }
   ],
   "source": [
    "# 1. Check driving eligibility\n",
    "age = int(input(\"Enter your age: \"))\n",
    "if age >= 18:\n",
    "    print(\"You are old enough to learn to drive.\")\n",
    "else:\n",
    "    print(f\"You need {18 - age} more years to learn to drive.\")\n",
    "\n",
    "# 2. Compare ages\n",
    "my_age = 25\n",
    "your_age = int(input(\"Enter your age: \"))\n",
    "if your_age > my_age:\n",
    "    diff = your_age - my_age\n",
    "    print(f\"You are {diff} year{'s' if diff > 1 else ''} older than me.\")\n",
    "elif your_age < my_age:\n",
    "    diff = my_age - your_age\n",
    "    print(f\"I am {diff} year{'s' if diff > 1 else ''} older than you.\")\n",
    "else:\n",
    "    print(\"We are the same age.\")\n",
    "\n",
    "# 3. Compare two numbers\n",
    "a = int(input(\"Enter number one: \"))\n",
    "b = int(input(\"Enter number two: \"))\n",
    "if a > b:\n",
    "    print(f\"{a} is greater than {b}\")\n",
    "elif a < b:\n",
    "    print(f\"{a} is smaller than {b}\")\n",
    "else:\n",
    "    print(f\"{a} is equal to {b}\")\n"
   ]
  },
  {
   "cell_type": "markdown",
   "metadata": {},
   "source": [
    "### Exercises: Level 2"
   ]
  },
  {
   "cell_type": "markdown",
   "metadata": {},
   "source": [
    "  1. Write a code which gives grade to students according to theirs scores:\n",
    "\n",
    "        ```sh\n",
    "        80-100, A\n",
    "        70-89, B\n",
    "        60-69, C\n",
    "        50-59, D\n",
    "        0-49, F\n",
    "        ```\n",
    "\n",
    "   1. Check if the season is Autumn, Winter, Spring or Summer. If the user input is:\n",
    "    September, October or November, the season is Autumn.\n",
    "    December, January or February, the season is Winter.\n",
    "    March, April or May, the season is Spring\n",
    "    June, July or August, the season is Summer\n",
    "   2. The following list contains some fruits:\n",
    "\n",
    "    ```sh\n",
    "    fruits = ['banana', 'orange', 'mango', 'lemon']\n",
    "    ```\n",
    "\n",
    "    If a fruit doesn't exist in the list add the fruit to the list and print the modified list. If the fruit exists print('That fruit already exist in the list')\n"
   ]
  },
  {
   "cell_type": "code",
   "execution_count": 8,
   "metadata": {},
   "outputs": [
    {
     "name": "stdout",
     "output_type": "stream",
     "text": [
      "F\n",
      "The season is Summer.\n",
      "That fruit already exists in the list.\n"
     ]
    }
   ],
   "source": [
    "# 1. Grade students\n",
    "score = int(input(\"Enter your score: \"))\n",
    "if 80 <= score <= 100:\n",
    "    print(\"A\")\n",
    "elif 70 <= score < 80:\n",
    "    print(\"B\")\n",
    "elif 60 <= score < 70:\n",
    "    print(\"C\")\n",
    "elif 50 <= score < 60:\n",
    "    print(\"D\")\n",
    "else:\n",
    "    print(\"F\")\n",
    "\n",
    "# 2. Check the season\n",
    "month = input(\"Enter the month: \").strip().capitalize()\n",
    "if month in [\"September\", \"October\", \"November\"]:\n",
    "    print(\"The season is Autumn.\")\n",
    "elif month in [\"December\", \"January\", \"February\"]:\n",
    "    print(\"The season is Winter.\")\n",
    "elif month in [\"March\", \"April\", \"May\"]:\n",
    "    print(\"The season is Spring.\")\n",
    "elif month in [\"June\", \"July\", \"August\"]:\n",
    "    print(\"The season is Summer.\")\n",
    "else:\n",
    "    print(\"Invalid month.\")\n",
    "\n",
    "# 3. Check and modify the fruit list\n",
    "fruits = ['banana', 'orange', 'mango', 'lemon']\n",
    "fruit = input(\"Enter a fruit: \").strip().lower()\n",
    "if fruit in fruits:\n",
    "    print(\"That fruit already exists in the list.\")\n",
    "else:\n",
    "    fruits.append(fruit)\n",
    "    print(\"Modified list:\", fruits)"
   ]
  },
  {
   "cell_type": "markdown",
   "metadata": {},
   "source": [
    "### Exercises: Level 3"
   ]
  },
  {
   "cell_type": "markdown",
   "metadata": {},
   "source": [
    " 1. Analyze person dictionary\n",
    "person = {\n",
    "    'first_name': 'Asabeneh',\n",
    "    'last_name': 'Yetayeh',\n",
    "    'age': 250,\n",
    "    'country': 'Finland',\n",
    "    'is_marred': True,\n",
    "    'skills': ['JavaScript', 'React', 'Node', 'MongoDB', 'Python'],\n",
    "    'address': {\n",
    "        'street': 'Space street',\n",
    "        'zipcode': '02210'\n",
    "    }\n",
    "}\n",
    "\n",
    " Check if skills key exists\n",
    "if 'skills' in person:\n",
    "    # Print middle skill\n",
    "    skills = person['skills']\n",
    "    print(\"Middle skill:\", skills[len(skills) // 2])\n",
    "\n",
    "    # Check if Python is a skill\n",
    "    if 'Python' in skills:\n",
    "        print(\"The person has Python skill.\")\n",
    "\n",
    "    # Check developer type\n",
    "    if set(['JavaScript', 'React']) == set(skills):\n",
    "        print(\"He is a front end developer.\")\n",
    "    elif set(['Node', 'Python', 'MongoDB']).issubset(skills):\n",
    "        print(\"He is a backend developer.\")\n",
    "    elif set(['React', 'Node', 'MongoDB']).issubset(skills):\n",
    "        print(\"He is a fullstack developer.\")\n",
    "    else:\n",
    "        print(\"Unknown title.\")\n",
    "\n",
    " Check marital status and residence\n",
    "if person['is_marred'] and person['country'] == 'Finland':\n",
    "    print(f\"{person['first_name']} {person['last_name']} lives in Finland. He is married.\")\n",
    "\n",
    "\n",
    "\n"
   ]
  },
  {
   "cell_type": "code",
   "execution_count": 9,
   "metadata": {},
   "outputs": [
    {
     "name": "stdout",
     "output_type": "stream",
     "text": [
      "Middle skill: Node\n",
      "The person has Python skill.\n",
      "He is a backend developer.\n",
      "Asabeneh Yetayeh lives in Finland. He is married.\n"
     ]
    }
   ],
   "source": [
    "# 1. Analyze person dictionary\n",
    "person = {\n",
    "    'first_name': 'Asabeneh',\n",
    "    'last_name': 'Yetayeh',\n",
    "    'age': 250,\n",
    "    'country': 'Finland',\n",
    "    'is_marred': True,\n",
    "    'skills': ['JavaScript', 'React', 'Node', 'MongoDB', 'Python'],\n",
    "    'address': {\n",
    "        'street': 'Space street',\n",
    "        'zipcode': '02210'\n",
    "    }\n",
    "}\n",
    "\n",
    "# Check if skills key exists\n",
    "if 'skills' in person:\n",
    "    # Print middle skill\n",
    "    skills = person['skills']\n",
    "    print(\"Middle skill:\", skills[len(skills) // 2])\n",
    "\n",
    "    # Check if Python is a skill\n",
    "    if 'Python' in skills:\n",
    "        print(\"The person has Python skill.\")\n",
    "\n",
    "    # Check developer type\n",
    "    if set(['JavaScript', 'React']) == set(skills):\n",
    "        print(\"He is a front end developer.\")\n",
    "    elif set(['Node', 'Python', 'MongoDB']).issubset(skills):\n",
    "        print(\"He is a backend developer.\")\n",
    "    elif set(['React', 'Node', 'MongoDB']).issubset(skills):\n",
    "        print(\"He is a fullstack developer.\")\n",
    "    else:\n",
    "        print(\"Unknown title.\")\n",
    "\n",
    "# Check marital status and residence\n",
    "if person['is_married'] and person['country'] == 'Finland':\n",
    "    print(f\"{person['first_name']} {person['last_name']} lives in Finland. He is married.\")"
   ]
  }
 ],
 "metadata": {
  "kernelspec": {
   "display_name": "Python 3",
   "language": "python",
   "name": "python3"
  },
  "language_info": {
   "codemirror_mode": {
    "name": "ipython",
    "version": 3
   },
   "file_extension": ".py",
   "mimetype": "text/x-python",
   "name": "python",
   "nbconvert_exporter": "python",
   "pygments_lexer": "ipython3",
   "version": "3.13.1"
  }
 },
 "nbformat": 4,
 "nbformat_minor": 2
}
