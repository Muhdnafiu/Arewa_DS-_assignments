{
 "cells": [
  {
   "cell_type": "markdown",
   "metadata": {},
   "source": [
    "## 💻 Exercises: Module 9\n"
   ]
  },
  {
   "cell_type": "markdown",
   "metadata": {},
   "source": [
    "### Exercises: Level 1\n",
    "\n",
    "1. Declare a function _add_two_numbers_. It takes two parameters and it returns a sum.\n",
    "2. Area of a circle is calculated as follows: area = π x r x r. Write a function that calculates _area_of_circle_.\n",
    "3. Write a function called add_all_nums which takes arbitrary number of arguments and sums all the arguments. Check if all the list items are number types. If not do give a reasonable feedback.\n",
    "4. Temperature in °C can be converted to °F using this formula: °F = (°C x 9/5) + 32. Write a function which converts °C to °F, _convert_celsius_to-fahrenheit_.\n",
    "5. Write a function called check-season, it takes a month parameter and returns the season: Autumn, Winter, Spring or Summer.\n",
    "6. Write a function called calculate_slope which return the slope of a linear equation\n",
    "7. Quadratic equation is calculated as follows: ax² + bx + c = 0. Write a function which calculates solution set of a quadratic equation, _solve_quadratic_eqn_.\n",
    "8. Declare a function named print_list. It takes a list as a parameter and it prints out each element of the list.\n",
    "9. Declare a function named reverse_list. It takes an array as a parameter and it returns the reverse of the array (use loops).\n",
    "\n",
    "```py\n",
    "print(reverse_list([1, 2, 3, 4, 5]))\n",
    "# [5, 4, 3, 2, 1]\n",
    "print(reverse_list1([\"A\", \"B\", \"C\"]))\n",
    "# [\"C\", \"B\", \"A\"]\n",
    "```\n",
    "\n",
    "10. Declare a function named capitalize_list_items. It takes a list as a parameter and it returns a capitalized list of items\n",
    "11. Declare a function named add_item. It takes a list and an item parameters. It returns a list with the item added at the end.\n",
    "\n",
    "```py\n",
    "food_staff = ['Potato', 'Tomato', 'Mango', 'Milk']\n",
    "print(add_item(food_staff, 'Meat'))     # ['Potato', 'Tomato', 'Mango', 'Milk','Meat']\n",
    "numbers = [2, 3, 7, 9]\n",
    "print(add_item(numbers, 5))      [2, 3, 7, 9, 5]\n",
    "```\n",
    "\n",
    "12. Declare a function named remove_item. It takes a list and an item parameters. It returns a list with the item removed from it.\n",
    "\n",
    "```py\n",
    "food_staff = ['Potato', 'Tomato', 'Mango', 'Milk']\n",
    "print(remove_item(food_staff, 'Mango'))  # ['Potato', 'Tomato', 'Milk'];\n",
    "numbers = [2, 3, 7, 9]\n",
    "print(remove_item(numbers, 3))  # [2, 7, 9]\n",
    "```\n",
    "\n",
    "13. Declare a function named sum_of_numbers. It takes a number parameter and it adds all the numbers in that range.\n",
    "\n",
    "```py\n",
    "print(sum_of_numbers(5))  # 15\n",
    "print(sum_of_numbers(10)) # 55\n",
    "print(sum_of_numbers(100)) # 5050\n",
    "```\n",
    "\n",
    "14. Declare a function named sum_of_odds. It takes a number parameter and it adds all the odd numbers in that range.\n",
    "15. Declare a function named sum_of_even. It takes a number parameter and it adds all the even numbers in that - range."
   ]
  },
  {
   "cell_type": "markdown",
   "metadata": {},
   "source": []
  },
  {
   "cell_type": "code",
   "execution_count": 9,
   "metadata": {},
   "outputs": [],
   "source": [
    "# Exercises: Level 1\n",
    "\n",
    "# 1. Declare a function _add_two_numbers_. It takes two parameters and it returns a sum.\n",
    "def add_two_numbers(a, b):\n",
    "    return a + b\n",
    "\n",
    "# 2. Area of a circle is calculated as follows: area = π x r x r. Write a function that calculates _area_of_circle_.\n",
    "def area_of_circle(radius):\n",
    "    import math\n",
    "    return math.pi * radius ** 2\n",
    "\n",
    "# 3. Write a function called add_all_nums which takes arbitrary number of arguments and sums all the arguments.\n",
    "def add_all_nums(*args):\n",
    "    if all(isinstance(arg, (int, float)) for arg in args):\n",
    "        return sum(args)\n",
    "    return \"All items must be numbers.\"\n",
    "\n",
    "# 4. Temperature in °C can be converted to °F using this formula: °F = (°C x 9/5) + 32.\n",
    "def convert_celsius_to_fahrenheit(celsius):\n",
    "    return (celsius * 9/5) + 32\n",
    "\n",
    "# 5. Write a function called check_season\n",
    "\n",
    "def check_season(month):\n",
    "    month = month.lower()\n",
    "    if month in [\"september\", \"october\", \"november\"]:\n",
    "        return \"Autumn\"\n",
    "    elif month in [\"december\", \"january\", \"february\"]:\n",
    "        return \"Winter\"\n",
    "    elif month in [\"march\", \"april\", \"may\"]:\n",
    "        return \"Spring\"\n",
    "    elif month in [\"june\", \"july\", \"august\"]:\n",
    "        return \"Summer\"\n",
    "    return \"Invalid month\"\n",
    "\n",
    "# 6. Write a function called calculate_slope\n",
    "\n",
    "def calculate_slope(x1, y1, x2, y2):\n",
    "    return (y2 - y1) / (x2 - x1)\n",
    "\n",
    "# 7. Write a function to solve quadratic equation\n",
    "\n",
    "def solve_quadratic_eqn(a, b, c):\n",
    "    import math\n",
    "    discriminant = b**2 - 4*a*c\n",
    "    if discriminant > 0:\n",
    "        root1 = (-b + math.sqrt(discriminant)) / (2 * a)\n",
    "        root2 = (-b - math.sqrt(discriminant)) / (2 * a)\n",
    "        return root1, root2\n",
    "    elif discriminant == 0:\n",
    "        root = -b / (2 * a)\n",
    "        return root\n",
    "    else:\n",
    "        return \"No real roots\"\n",
    "\n",
    "# 8. Declare a function named print_list\n",
    "\n",
    "def print_list(lst):\n",
    "    for item in lst:\n",
    "        print(item)\n",
    "\n",
    "# 9. Declare a function named reverse_list\n",
    "\n",
    "def reverse_list(lst):\n",
    "    return lst[::-1]\n",
    "\n",
    "# 10. Declare a function named capitalize_list_items\n",
    "\n",
    "def capitalize_list_items(lst):\n",
    "    return [item.capitalize() for item in lst]\n",
    "\n",
    "# 11. Declare a function named add_item\n",
    "\n",
    "def add_item(lst, item):\n",
    "    lst.append(item)\n",
    "    return lst\n",
    "\n",
    "# 12. Declare a function named remove_item\n",
    "\n",
    "def remove_item(lst, item):\n",
    "    if item in lst:\n",
    "        lst.remove(item)\n",
    "    return lst\n",
    "\n",
    "# 13. Declare a function named sum_of_numbers\n",
    "\n",
    "def sum_of_numbers(n):\n",
    "    return sum(range(n+1))\n",
    "\n",
    "# 14. Declare a function named sum_of_odds\n",
    "\n",
    "def sum_of_odds(n):\n",
    "    return sum(num for num in range(n+1) if num % 2 != 0)\n",
    "\n",
    "# 15. Declare a function named sum_of_even\n",
    "\n",
    "def sum_of_even(n):\n",
    "    return sum(num for num in range(n+1) if num % 2 == 0)\n"
   ]
  },
  {
   "cell_type": "markdown",
   "metadata": {},
   "source": [
    "### Exercises: Level 2"
   ]
  },
  {
   "cell_type": "markdown",
   "metadata": {},
   "source": [
    "1. Declare a function named evens_and_odds . It takes a positive integer as parameter and it counts number of evens and odds in the number.\n",
    "\n",
    "```py\n",
    "    print(evens_and_odds(100))\n",
    "    # The number of odds are 50.\n",
    "    # The number of evens are 51.\n",
    "```\n",
    "\n",
    "1. Call your function factorial, it takes a whole number as a parameter and it return a factorial of the number\n",
    "1. Call your function _is_empty_, it takes a parameter and it checks if it is empty or not\n",
    "1. Write different functions which take lists. They should calculate_mean, calculate_median, calculate_mode, calculate_range, calculate_variance, calculate_std (standard deviation)."
   ]
  },
  {
   "cell_type": "code",
   "execution_count": 10,
   "metadata": {},
   "outputs": [
    {
     "name": "stdout",
     "output_type": "stream",
     "text": [
      "The number of odds are 50.\n",
      "The number of evens are 51.\n"
     ]
    }
   ],
   "source": [
    "# Exercises: Level 2\n",
    "\n",
    "# 1. Declare a function named evens_and_odds\n",
    "\n",
    "def evens_and_odds(n):\n",
    "    if n < 0:\n",
    "        return \"Please enter a positive integer.\"\n",
    "    evens = len([i for i in range(n + 1) if i % 2 == 0])\n",
    "    odds = n + 1 - evens  # Total numbers minus evens gives the odds count\n",
    "    return f\"The number of odds are {odds}.\\nThe number of evens are {evens}.\"\n",
    "\n",
    "# Example usage\n",
    "print(evens_and_odds(100))\n",
    "\n",
    "\n",
    "# 2. Call your function factorial\n",
    "\n",
    "def factorial(n):\n",
    "    if n == 0:\n",
    "        return 1\n",
    "    return n * factorial(n-1)\n",
    "\n",
    "# 3. Call your function is_empty\n",
    "\n",
    "def is_empty(param):\n",
    "    return not bool(param)\n",
    "\n",
    "# 4. Write functions for statistics\n",
    "\n",
    "def calculate_mean(lst):\n",
    "    return sum(lst) / len(lst)\n",
    "\n",
    "def calculate_median(lst):\n",
    "    lst.sort()\n",
    "    n = len(lst)\n",
    "    mid = n // 2\n",
    "    return (lst[mid] + lst[mid-1]) / 2 if n % 2 == 0 else lst[mid]\n",
    "\n",
    "def calculate_mode(lst):\n",
    "    from collections import Counter\n",
    "    counts = Counter(lst)\n",
    "    mode = max(counts, key=counts.get)\n",
    "    return mode\n",
    "\n",
    "def calculate_range(lst):\n",
    "    return max(lst) - min(lst)\n",
    "\n",
    "def calculate_variance(lst):\n",
    "    mean = calculate_mean(lst)\n",
    "    return sum((x - mean) ** 2 for x in lst) / len(lst)\n",
    "\n",
    "def calculate_std(lst):\n",
    "    import math\n",
    "    return math.sqrt(calculate_variance(lst))"
   ]
  },
  {
   "cell_type": "markdown",
   "metadata": {},
   "source": [
    "### Exercises: Level 3\n",
    "\n",
    "1. Write a function called is_prime, which checks if a number is prime.\n",
    "1. Write a functions which checks if all items are unique in the list.\n",
    "1. Write a function which checks if all the items of the list are of the same data type.\n",
    "1. Write a function which check if provided variable is a valid python variable\n",
    "1. Go to the data folder and access the countries-data.py file.\n",
    "\n",
    "- Create a function called the most_spoken_languages in the world. It should return 10 or 20 most spoken languages in the world in descending order\n",
    "- Create a function called the most_populated_countries. It should return 10 or 20 most populated countries in descending order."
   ]
  },
  {
   "cell_type": "code",
   "execution_count": 11,
   "metadata": {},
   "outputs": [],
   "source": [
    "# Exercises: Level 3\n",
    "\n",
    "# 1. Write a function called is_prime\n",
    "\n",
    "def is_prime(num):\n",
    "    if num < 2:\n",
    "        return False\n",
    "    for i in range(2, int(num ** 0.5) + 1):\n",
    "        if num % i == 0:\n",
    "            return False\n",
    "    return True\n",
    "\n",
    "# 2. Write a function which checks if all items are unique\n",
    "\n",
    "def all_unique(lst):\n",
    "    return len(lst) == len(set(lst))\n",
    "\n",
    "# 3. Write a function which checks if all items are the same type\n",
    "\n",
    "def all_same_type(lst):\n",
    "    return len(set(type(item) for item in lst)) == 1\n",
    "\n",
    "# 4. Write a function which checks if a variable is a valid Python variable\n",
    "\n",
    "def is_valid_variable(var):\n",
    "    import keyword\n",
    "    return var.isidentifier() and not keyword.iskeyword(var)\n",
    "\n",
    "# 5. Analyze countries data\n",
    "\n",
    "def most_spoken_languages(countries_data, top_n=10):\n",
    "    from collections import Counter\n",
    "    language_counts = Counter(language for country in countries_data for language in country['languages'])\n",
    "    return language_counts.most_common(top_n)\n",
    "\n",
    "def most_populated_countries(countries_data, top_n=10):\n",
    "    return sorted(countries_data, key=lambda x: x['population'], reverse=True)[:top_n]\n"
   ]
  },
  {
   "cell_type": "markdown",
   "metadata": {},
   "source": [
    "## 💻 List Comprehensions Exercises"
   ]
  },
  {
   "cell_type": "markdown",
   "metadata": {},
   "source": [
    "1. Filter only negative and zero in the list using list comprehension\n",
    "   ```py\n",
    "   numbers = [-4, -3, -2, -1, 0, 2, 4, 6]\n",
    "   ```"
   ]
  },
  {
   "cell_type": "code",
   "execution_count": 12,
   "metadata": {},
   "outputs": [
    {
     "name": "stdout",
     "output_type": "stream",
     "text": [
      "[-4, -3, -2, -1, 0]\n"
     ]
    }
   ],
   "source": [
    "numbers = [-4, -3, -2, -1, 0, 2, 4, 6]\n",
    "negative_and_zero = [num for num in numbers if num <= 0]\n",
    "print(negative_and_zero)\n",
    "# Output: [-4, -3, -2, -1, 0]\n"
   ]
  },
  {
   "cell_type": "markdown",
   "metadata": {},
   "source": [
    "2. Flatten the following list of lists of lists to a one dimensional list :\n",
    "\n",
    "   ```py\n",
    "   list_of_lists =[[[1, 2, 3]], [[4, 5, 6]], [[7, 8, 9]]]\n",
    "\n",
    "   output\n",
    "   [1, 2, 3, 4, 5, 6, 7, 8, 9]\n",
    "   ```"
   ]
  },
  {
   "cell_type": "code",
   "execution_count": 13,
   "metadata": {},
   "outputs": [
    {
     "name": "stdout",
     "output_type": "stream",
     "text": [
      "[1, 2, 3, 4, 5, 6, 7, 8, 9]\n"
     ]
    }
   ],
   "source": [
    "list_of_lists = [[[1, 2, 3]], [[4, 5, 6]], [[7, 8, 9]]]\n",
    "flattened = [num for sublist1 in list_of_lists for sublist2 in sublist1 for num in sublist2]\n",
    "print(flattened)\n",
    "# Output: [1, 2, 3, 4, 5, 6, 7, 8, 9]\n"
   ]
  },
  {
   "cell_type": "markdown",
   "metadata": {},
   "source": [
    "3. Using list comprehension create the following list of tuples:\n",
    "   ```py\n",
    "   [(0, 1, 0, 0, 0, 0, 0),\n",
    "   (1, 1, 1, 1, 1, 1, 1),\n",
    "   (2, 1, 2, 4, 8, 16, 32),\n",
    "   (3, 1, 3, 9, 27, 81, 243),\n",
    "   (4, 1, 4, 16, 64, 256, 1024),\n",
    "   (5, 1, 5, 25, 125, 625, 3125),\n",
    "   (6, 1, 6, 36, 216, 1296, 7776),\n",
    "   (7, 1, 7, 49, 343, 2401, 16807),\n",
    "   (8, 1, 8, 64, 512, 4096, 32768),\n",
    "   (9, 1, 9, 81, 729, 6561, 59049),\n",
    "   (10, 1, 10, 100, 1000, 10000, 100000)]\n",
    "   ```"
   ]
  },
  {
   "cell_type": "code",
   "execution_count": 14,
   "metadata": {},
   "outputs": [
    {
     "name": "stdout",
     "output_type": "stream",
     "text": [
      "[(0, 1, 0, 0, 0, 0, 0), (1, 1, 1, 1, 1, 1, 1), (2, 1, 2, 4, 8, 16, 32), (3, 1, 3, 9, 27, 81, 243), (4, 1, 4, 16, 64, 256, 1024), (5, 1, 5, 25, 125, 625, 3125), (6, 1, 6, 36, 216, 1296, 7776), (7, 1, 7, 49, 343, 2401, 16807), (8, 1, 8, 64, 512, 4096, 32768), (9, 1, 9, 81, 729, 6561, 59049), (10, 1, 10, 100, 1000, 10000, 100000)]\n"
     ]
    }
   ],
   "source": [
    "tuples = [(i, 1, i, i**2, i**3, i**4, i**5) for i in range(11)]\n",
    "print(tuples)\n",
    "# Output:\n",
    "# [(0, 1, 0, 0, 0, 0, 0), (1, 1, 1, 1, 1, 1, 1), (2, 1, 2, 4, 8, 16, 32), ... , (10, 1, 10, 100, 1000, 10000, 100000)]\n"
   ]
  },
  {
   "cell_type": "markdown",
   "metadata": {},
   "source": [
    "4. Flatten the following list to a new list:\n",
    "   ```py\n",
    "   countries = [[('Finland', 'Helsinki')], [('Sweden', 'Stockholm')], [('Norway', 'Oslo')]]\n",
    "   output:\n",
    "   [['FINLAND','FIN', 'HELSINKI'], ['SWEDEN', 'SWE', 'STOCKHOLM'], ['NORWAY', 'NOR', 'OSLO']]\n",
    "   ```"
   ]
  },
  {
   "cell_type": "code",
   "execution_count": 15,
   "metadata": {},
   "outputs": [
    {
     "name": "stdout",
     "output_type": "stream",
     "text": [
      "[['FINLAND', 'FIN', 'HELSINKI'], ['SWEDEN', 'SWE', 'STOCKHOLM'], ['NORWAY', 'NOR', 'OSLO']]\n"
     ]
    }
   ],
   "source": [
    "countries = [[('Finland', 'Helsinki')], [('Sweden', 'Stockholm')], [('Norway', 'Oslo')]]\n",
    "flattened_countries = [[country[0].upper(), country[0][:3].upper(), country[1].upper()] \n",
    "                    for sublist in countries for country in sublist]\n",
    "print(flattened_countries)\n",
    "# Output: [['FINLAND', 'FIN', 'HELSINKI'], ['SWEDEN', 'SWE', 'STOCKHOLM'], ['NORWAY', 'NOR', 'OSLO']]\n"
   ]
  },
  {
   "cell_type": "markdown",
   "metadata": {},
   "source": [
    "5. Change the following list to a list of dictionaries:\n",
    "   ```py\n",
    "   countries = [[('Finland', 'Helsinki')], [('Sweden', 'Stockholm')], [('Norway', 'Oslo')]]\n",
    "   output:\n",
    "   [{'country': 'FINLAND', 'city': 'HELSINKI'},\n",
    "   {'country': 'SWEDEN', 'city': 'STOCKHOLM'},\n",
    "   {'country': 'NORWAY', 'city': 'OSLO'}]\n",
    "   ```"
   ]
  },
  {
   "cell_type": "code",
   "execution_count": 16,
   "metadata": {},
   "outputs": [
    {
     "name": "stdout",
     "output_type": "stream",
     "text": [
      "[{'country': 'FINLAND', 'city': 'HELSINKI'}, {'country': 'SWEDEN', 'city': 'STOCKHOLM'}, {'country': 'NORWAY', 'city': 'OSLO'}]\n"
     ]
    }
   ],
   "source": [
    "countries = [[('Finland', 'Helsinki')], [('Sweden', 'Stockholm')], [('Norway', 'Oslo')]]\n",
    "countries_dicts = [{'country': country[0].upper(), 'city': country[1].upper()} \n",
    "                for sublist in countries for country in sublist]\n",
    "print(countries_dicts)\n",
    "\n"
   ]
  },
  {
   "cell_type": "markdown",
   "metadata": {},
   "source": [
    "6. Change the following list of lists to a list of concatenated strings:\n",
    "   ```py\n",
    "   names = [[('Asabeneh', 'Yetayeh')], [('David', 'Smith')], [('Donald', 'Trump')], [('Bill', 'Gates')]]\n",
    "   output\n",
    "   ['Asabeneh Yetaeyeh', 'David Smith', 'Donald Trump', 'Bill Gates']\n",
    "   ```"
   ]
  },
  {
   "cell_type": "code",
   "execution_count": 17,
   "metadata": {},
   "outputs": [
    {
     "name": "stdout",
     "output_type": "stream",
     "text": [
      "['Asabeneh Yetayeh', 'David Smith', 'Donald Trump', 'Bill Gates']\n"
     ]
    }
   ],
   "source": [
    "names = [[('Asabeneh', 'Yetayeh')], [('David', 'Smith')], [('Donald', 'Trump')], [('Bill', 'Gates')]]\n",
    "concatenated_names = [f\"{name[0]} {name[1]}\" for sublist in names for name in sublist]\n",
    "print(concatenated_names)\n",
    "\n"
   ]
  },
  {
   "cell_type": "markdown",
   "metadata": {},
   "source": [
    "7. Write a lambda function which can solve a slope or y-intercept of linear functions.\n"
   ]
  },
  {
   "cell_type": "code",
   "execution_count": 18,
   "metadata": {},
   "outputs": [
    {
     "name": "stdout",
     "output_type": "stream",
     "text": [
      "Slope: 2.0, Y-intercept: 0.0\n"
     ]
    }
   ],
   "source": [
    "# Given a linear function y = mx + b\n",
    "# Slope (m) is calculated as (y2 - y1) / (x2 - x1)\n",
    "# Y-intercept (b) is calculated as y - mx\n",
    "\n",
    "calculate_slope = lambda x1, y1, x2, y2: (y2 - y1) / (x2 - x1) if x2 != x1 else None\n",
    "calculate_intercept = lambda x, y, m: y - (m * x)\n",
    "\n",
    "# Example:\n",
    "x1, y1, x2, y2 = 1, 2, 3, 6\n",
    "m = calculate_slope(x1, y1, x2, y2)\n",
    "b = calculate_intercept(x1, y1, m)\n",
    "\n",
    "print(f\"Slope: {m}, Y-intercept: {b}\")\n",
    "\n"
   ]
  }
 ],
 "metadata": {
  "kernelspec": {
   "display_name": "Python 3",
   "language": "python",
   "name": "python3"
  },
  "language_info": {
   "codemirror_mode": {
    "name": "ipython",
    "version": 3
   },
   "file_extension": ".py",
   "mimetype": "text/x-python",
   "name": "python",
   "nbconvert_exporter": "python",
   "pygments_lexer": "ipython3",
   "version": "3.13.1"
  }
 },
 "nbformat": 4,
 "nbformat_minor": 2
}
