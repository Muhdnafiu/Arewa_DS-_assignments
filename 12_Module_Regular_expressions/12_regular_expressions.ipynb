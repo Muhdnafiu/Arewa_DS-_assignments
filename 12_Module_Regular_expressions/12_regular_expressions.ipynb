{
 "cells": [
  {
   "cell_type": "markdown",
   "metadata": {},
   "source": [
    "\n",
    "## 💻 Regular Expressions Exercises:"
   ]
  },
  {
   "cell_type": "markdown",
   "metadata": {},
   "source": [
    "### Exercises: Level 1"
   ]
  },
  {
   "cell_type": "markdown",
   "metadata": {},
   "source": [
    " 1. What is the most frequent word in the following paragraph?\n",
    "\n",
    "```py\n",
    "    paragraph = 'I love teaching. If you do not love teaching what else can you love. I love Python if you do not love something which can give you all the capabilities to develop an application what else can you love.\n",
    "```\n",
    "\n",
    "```sh\n",
    "    [\n",
    "    (6, 'love'),\n",
    "    (5, 'you'),\n",
    "    (3, 'can'),\n",
    "    (2, 'what'),\n",
    "    (2, 'teaching'),\n",
    "    (2, 'not'),\n",
    "    (2, 'else'),\n",
    "    (2, 'do'),\n",
    "    (2, 'I'),\n",
    "    (1, 'which'),\n",
    "    (1, 'to'),\n",
    "    (1, 'the'),\n",
    "    (1, 'something'),\n",
    "    (1, 'if'),\n",
    "    (1, 'give'),\n",
    "    (1, 'develop'),\n",
    "    (1, 'capabilities'),\n",
    "    (1, 'application'),\n",
    "    (1, 'an'),\n",
    "    (1, 'all'),\n",
    "    (1, 'Python'),\n",
    "    (1, 'If')\n",
    "    ]\n",
    "```\n",
    "\n",
    "2. The position of some particles on the horizontal x-axis are -12, -4, -3 and -1 in the negative direction, 0 at origin, 4 and 8 in the positive direction. Extract these numbers from this whole text and find the distance between the two furthest particles.\n",
    "\n",
    "```py\n",
    "points = ['-12', '-4', '-3', '-1', '0', '4', '8']\n",
    "sorted_points =  [-12, -4, -3, -1, -1, 0, 2, 4, 8]\n",
    "distance = 8 -(-12) # 20\n",
    "```"
   ]
  },
  {
   "cell_type": "code",
   "execution_count": 1,
   "metadata": {},
   "outputs": [
    {
     "name": "stdout",
     "output_type": "stream",
     "text": [
      "[('love', 6), ('you', 5), ('can', 3), ('I', 2), ('teaching', 2), ('do', 2), ('not', 2), ('what', 2), ('else', 2), ('If', 1), ('Python', 1), ('if', 1), ('something', 1), ('which', 1), ('give', 1), ('all', 1), ('the', 1), ('capabilities', 1), ('to', 1), ('develop', 1), ('an', 1), ('application', 1)]\n"
     ]
    }
   ],
   "source": [
    "# Most Frequent Word in the Paragraph\n",
    "import re\n",
    "from collections import Counter\n",
    "\n",
    "paragraph = \"\"\"I love teaching. If you do not love teaching what else can you love. \n",
    "I love Python if you do not love something which can give you all the capabilities \n",
    "to develop an application what else can you love.\"\"\"\n",
    "\n",
    "# Clean and split text into words\n",
    "words = re.findall(r'\\b\\w+\\b', paragraph)\n",
    "\n",
    "# Count frequency of each word\n",
    "word_counts = Counter(words).most_common()\n",
    "\n",
    "print(word_counts)\n"
   ]
  },
  {
   "cell_type": "code",
   "execution_count": 2,
   "metadata": {},
   "outputs": [
    {
     "name": "stdout",
     "output_type": "stream",
     "text": [
      "Points: [-12, -4, -3, -1, 0, 4, 8]\n",
      "Distance: 20\n"
     ]
    }
   ],
   "source": [
    "# Distance Between Furthest Particles\n",
    "import re\n",
    "\n",
    "text = \"The position of some particles on the horizontal x-axis are -12, -4, -3, -1, 0, 4, and 8.\"\n",
    "# Extract numbers\n",
    "points = list(map(int, re.findall(r'-?\\d+', text)))\n",
    "\n",
    "# Sort points\n",
    "sorted_points = sorted(points)\n",
    "\n",
    "# Calculate distance\n",
    "distance = sorted_points[-1] - sorted_points[0]\n",
    "\n",
    "print(f\"Points: {sorted_points}\")\n",
    "print(f\"Distance: {distance}\")\n"
   ]
  },
  {
   "cell_type": "markdown",
   "metadata": {},
   "source": [
    "### Exercises: Level 2"
   ]
  },
  {
   "cell_type": "markdown",
   "metadata": {},
   "source": [
    "1. Write a pattern which identifies if a string is a valid python variable\n",
    "\n",
    "    ```sh\n",
    "    is_valid_variable('first_name') # True\n",
    "    is_valid_variable('first-name') # False\n",
    "    is_valid_variable('1first_name') # False\n",
    "    is_valid_variable('firstname') # True\n",
    "    ```\n"
   ]
  },
  {
   "cell_type": "code",
   "execution_count": 3,
   "metadata": {},
   "outputs": [
    {
     "name": "stdout",
     "output_type": "stream",
     "text": [
      "True\n",
      "False\n",
      "False\n",
      "True\n"
     ]
    }
   ],
   "source": [
    "# Valid Python Variable Name\n",
    "import re\n",
    "\n",
    "def is_valid_variable(variable):\n",
    "    pattern = r'^[a-zA-Z_][a-zA-Z0-9_]*$'\n",
    "    return bool(re.match(pattern, variable))\n",
    "\n",
    "# Test cases\n",
    "print(is_valid_variable('first_name'))  # True\n",
    "print(is_valid_variable('first-name'))  # False\n",
    "print(is_valid_variable('1first_name'))  # False\n",
    "print(is_valid_variable('firstname'))  # True\n"
   ]
  },
  {
   "cell_type": "markdown",
   "metadata": {},
   "source": [
    "### Exercises: Level 3"
   ]
  },
  {
   "cell_type": "markdown",
   "metadata": {},
   "source": [
    "1. Clean the following text. After cleaning, count three most frequent words in the string.\n",
    "\n",
    "    ```py\n",
    "    sentence = '''%I $am@% a %tea@cher%, &and& I lo%#ve %tea@ching%;. There $is nothing; &as& mo@re rewarding as educa@ting &and& @emp%o@wering peo@ple. ;I found tea@ching m%o@re interesting tha@n any other %jo@bs. %Do@es thi%s mo@tivate yo@u to be a tea@cher!?'''\n",
    "\n",
    "    print(clean_text(sentence));\n",
    "    I am a teacher and I love teaching There is nothing as more rewarding as educating and empowering people I found teaching more interesting than any other jobs Does this motivate you to be a teacher\n",
    "    print(most_frequent_words(cleaned_text)) # [(3, 'I'), (2, 'teaching'), (2, 'teacher')]\n",
    "    ```\n"
   ]
  },
  {
   "cell_type": "code",
   "execution_count": 4,
   "metadata": {},
   "outputs": [
    {
     "name": "stdout",
     "output_type": "stream",
     "text": [
      "I am a teacher and I love teaching \n",
      "There is nothing as more rewarding as educating and empowering people \n",
      "I found teaching more interesting than any other jobs \n",
      "Does this motivate you to be a teacher\n",
      "[('I', 3), ('a', 2), ('teacher', 2)]\n"
     ]
    }
   ],
   "source": [
    "import re\n",
    "from collections import Counter\n",
    "\n",
    "sentence = \"\"\"%I $am@% a %tea@cher%, &and& I lo%#ve %tea@ching%;. \n",
    "There $is nothing; &as& mo@re rewarding as educa@ting &and& @emp%o@wering peo@ple. \n",
    ";I found tea@ching m%o@re interesting tha@n any other %jo@bs. \n",
    "%Do@es thi%s mo@tivate yo@u to be a tea@cher!?\"\"\"\n",
    "\n",
    "# Clean the text\n",
    "def clean_text(text):\n",
    "    return re.sub(r'[^a-zA-Z\\s]', '', text)\n",
    "\n",
    "# Count most frequent words\n",
    "def most_frequent_words(text):\n",
    "    words = text.split()\n",
    "    word_counts = Counter(words).most_common(3)\n",
    "    return word_counts\n",
    "\n",
    "cleaned_text = clean_text(sentence)\n",
    "most_frequent = most_frequent_words(cleaned_text)\n",
    "\n",
    "print(cleaned_text)\n",
    "print(most_frequent)\n"
   ]
  }
 ],
 "metadata": {
  "kernelspec": {
   "display_name": "Python 3",
   "language": "python",
   "name": "python3"
  },
  "language_info": {
   "codemirror_mode": {
    "name": "ipython",
    "version": 3
   },
   "file_extension": ".py",
   "mimetype": "text/x-python",
   "name": "python",
   "nbconvert_exporter": "python",
   "pygments_lexer": "ipython3",
   "version": "3.13.1"
  }
 },
 "nbformat": 4,
 "nbformat_minor": 2
}
